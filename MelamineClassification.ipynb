{
  "nbformat": 4,
  "nbformat_minor": 0,
  "metadata": {
    "colab": {
      "provenance": [],
      "collapsed_sections": [
        "Puitkoqfj0jB"
      ],
      "mount_file_id": "1BFxbPQ4tjRIzylFI6BVp3Hgfi8M9i5hp",
      "authorship_tag": "ABX9TyMFqlpmLn0YZNCKHfn4C1vk",
      "include_colab_link": true
    },
    "kernelspec": {
      "name": "python3",
      "display_name": "Python 3"
    },
    "language_info": {
      "name": "python"
    },
    "widgets": {
      "application/vnd.jupyter.widget-state+json": {
        "b5bd6deb1dcc4bf48bf0460702651a78": {
          "model_module": "@jupyter-widgets/controls",
          "model_name": "HBoxModel",
          "model_module_version": "1.5.0",
          "state": {
            "_dom_classes": [],
            "_model_module": "@jupyter-widgets/controls",
            "_model_module_version": "1.5.0",
            "_model_name": "HBoxModel",
            "_view_count": null,
            "_view_module": "@jupyter-widgets/controls",
            "_view_module_version": "1.5.0",
            "_view_name": "HBoxView",
            "box_style": "",
            "children": [
              "IPY_MODEL_27b4ad7ae6d146799a878a4c94c0a89d",
              "IPY_MODEL_32d0bcbc94e346e69316047f1dd09b39",
              "IPY_MODEL_c003277cca8f4db18d4b23f3025fcf6a"
            ],
            "layout": "IPY_MODEL_21421ea61340476ebfc22248be63f8eb"
          }
        },
        "27b4ad7ae6d146799a878a4c94c0a89d": {
          "model_module": "@jupyter-widgets/controls",
          "model_name": "HTMLModel",
          "model_module_version": "1.5.0",
          "state": {
            "_dom_classes": [],
            "_model_module": "@jupyter-widgets/controls",
            "_model_module_version": "1.5.0",
            "_model_name": "HTMLModel",
            "_view_count": null,
            "_view_module": "@jupyter-widgets/controls",
            "_view_module_version": "1.5.0",
            "_view_name": "HTMLView",
            "description": "",
            "description_tooltip": null,
            "layout": "IPY_MODEL_f546c6d81301480ab4a44639389b638f",
            "placeholder": "​",
            "style": "IPY_MODEL_860e0318f6834641b6253b69eb623f14",
            "value": "100%"
          }
        },
        "32d0bcbc94e346e69316047f1dd09b39": {
          "model_module": "@jupyter-widgets/controls",
          "model_name": "FloatProgressModel",
          "model_module_version": "1.5.0",
          "state": {
            "_dom_classes": [],
            "_model_module": "@jupyter-widgets/controls",
            "_model_module_version": "1.5.0",
            "_model_name": "FloatProgressModel",
            "_view_count": null,
            "_view_module": "@jupyter-widgets/controls",
            "_view_module_version": "1.5.0",
            "_view_name": "ProgressView",
            "bar_style": "success",
            "description": "",
            "description_tooltip": null,
            "layout": "IPY_MODEL_2a721b254da0407eaf2e8994c5a5bf11",
            "max": 553433881,
            "min": 0,
            "orientation": "horizontal",
            "style": "IPY_MODEL_af7eb9c52b1745b4ac8e8d13f0ddce45",
            "value": 553433881
          }
        },
        "c003277cca8f4db18d4b23f3025fcf6a": {
          "model_module": "@jupyter-widgets/controls",
          "model_name": "HTMLModel",
          "model_module_version": "1.5.0",
          "state": {
            "_dom_classes": [],
            "_model_module": "@jupyter-widgets/controls",
            "_model_module_version": "1.5.0",
            "_model_name": "HTMLModel",
            "_view_count": null,
            "_view_module": "@jupyter-widgets/controls",
            "_view_module_version": "1.5.0",
            "_view_name": "HTMLView",
            "description": "",
            "description_tooltip": null,
            "layout": "IPY_MODEL_f10e79f62b384026a02f6ae314ae1c34",
            "placeholder": "​",
            "style": "IPY_MODEL_ff58e978c4514cd4a92b14c8c1a8b797",
            "value": " 528M/528M [00:26&lt;00:00, 52.9MB/s]"
          }
        },
        "21421ea61340476ebfc22248be63f8eb": {
          "model_module": "@jupyter-widgets/base",
          "model_name": "LayoutModel",
          "model_module_version": "1.2.0",
          "state": {
            "_model_module": "@jupyter-widgets/base",
            "_model_module_version": "1.2.0",
            "_model_name": "LayoutModel",
            "_view_count": null,
            "_view_module": "@jupyter-widgets/base",
            "_view_module_version": "1.2.0",
            "_view_name": "LayoutView",
            "align_content": null,
            "align_items": null,
            "align_self": null,
            "border": null,
            "bottom": null,
            "display": null,
            "flex": null,
            "flex_flow": null,
            "grid_area": null,
            "grid_auto_columns": null,
            "grid_auto_flow": null,
            "grid_auto_rows": null,
            "grid_column": null,
            "grid_gap": null,
            "grid_row": null,
            "grid_template_areas": null,
            "grid_template_columns": null,
            "grid_template_rows": null,
            "height": null,
            "justify_content": null,
            "justify_items": null,
            "left": null,
            "margin": null,
            "max_height": null,
            "max_width": null,
            "min_height": null,
            "min_width": null,
            "object_fit": null,
            "object_position": null,
            "order": null,
            "overflow": null,
            "overflow_x": null,
            "overflow_y": null,
            "padding": null,
            "right": null,
            "top": null,
            "visibility": null,
            "width": null
          }
        },
        "f546c6d81301480ab4a44639389b638f": {
          "model_module": "@jupyter-widgets/base",
          "model_name": "LayoutModel",
          "model_module_version": "1.2.0",
          "state": {
            "_model_module": "@jupyter-widgets/base",
            "_model_module_version": "1.2.0",
            "_model_name": "LayoutModel",
            "_view_count": null,
            "_view_module": "@jupyter-widgets/base",
            "_view_module_version": "1.2.0",
            "_view_name": "LayoutView",
            "align_content": null,
            "align_items": null,
            "align_self": null,
            "border": null,
            "bottom": null,
            "display": null,
            "flex": null,
            "flex_flow": null,
            "grid_area": null,
            "grid_auto_columns": null,
            "grid_auto_flow": null,
            "grid_auto_rows": null,
            "grid_column": null,
            "grid_gap": null,
            "grid_row": null,
            "grid_template_areas": null,
            "grid_template_columns": null,
            "grid_template_rows": null,
            "height": null,
            "justify_content": null,
            "justify_items": null,
            "left": null,
            "margin": null,
            "max_height": null,
            "max_width": null,
            "min_height": null,
            "min_width": null,
            "object_fit": null,
            "object_position": null,
            "order": null,
            "overflow": null,
            "overflow_x": null,
            "overflow_y": null,
            "padding": null,
            "right": null,
            "top": null,
            "visibility": null,
            "width": null
          }
        },
        "860e0318f6834641b6253b69eb623f14": {
          "model_module": "@jupyter-widgets/controls",
          "model_name": "DescriptionStyleModel",
          "model_module_version": "1.5.0",
          "state": {
            "_model_module": "@jupyter-widgets/controls",
            "_model_module_version": "1.5.0",
            "_model_name": "DescriptionStyleModel",
            "_view_count": null,
            "_view_module": "@jupyter-widgets/base",
            "_view_module_version": "1.2.0",
            "_view_name": "StyleView",
            "description_width": ""
          }
        },
        "2a721b254da0407eaf2e8994c5a5bf11": {
          "model_module": "@jupyter-widgets/base",
          "model_name": "LayoutModel",
          "model_module_version": "1.2.0",
          "state": {
            "_model_module": "@jupyter-widgets/base",
            "_model_module_version": "1.2.0",
            "_model_name": "LayoutModel",
            "_view_count": null,
            "_view_module": "@jupyter-widgets/base",
            "_view_module_version": "1.2.0",
            "_view_name": "LayoutView",
            "align_content": null,
            "align_items": null,
            "align_self": null,
            "border": null,
            "bottom": null,
            "display": null,
            "flex": null,
            "flex_flow": null,
            "grid_area": null,
            "grid_auto_columns": null,
            "grid_auto_flow": null,
            "grid_auto_rows": null,
            "grid_column": null,
            "grid_gap": null,
            "grid_row": null,
            "grid_template_areas": null,
            "grid_template_columns": null,
            "grid_template_rows": null,
            "height": null,
            "justify_content": null,
            "justify_items": null,
            "left": null,
            "margin": null,
            "max_height": null,
            "max_width": null,
            "min_height": null,
            "min_width": null,
            "object_fit": null,
            "object_position": null,
            "order": null,
            "overflow": null,
            "overflow_x": null,
            "overflow_y": null,
            "padding": null,
            "right": null,
            "top": null,
            "visibility": null,
            "width": null
          }
        },
        "af7eb9c52b1745b4ac8e8d13f0ddce45": {
          "model_module": "@jupyter-widgets/controls",
          "model_name": "ProgressStyleModel",
          "model_module_version": "1.5.0",
          "state": {
            "_model_module": "@jupyter-widgets/controls",
            "_model_module_version": "1.5.0",
            "_model_name": "ProgressStyleModel",
            "_view_count": null,
            "_view_module": "@jupyter-widgets/base",
            "_view_module_version": "1.2.0",
            "_view_name": "StyleView",
            "bar_color": null,
            "description_width": ""
          }
        },
        "f10e79f62b384026a02f6ae314ae1c34": {
          "model_module": "@jupyter-widgets/base",
          "model_name": "LayoutModel",
          "model_module_version": "1.2.0",
          "state": {
            "_model_module": "@jupyter-widgets/base",
            "_model_module_version": "1.2.0",
            "_model_name": "LayoutModel",
            "_view_count": null,
            "_view_module": "@jupyter-widgets/base",
            "_view_module_version": "1.2.0",
            "_view_name": "LayoutView",
            "align_content": null,
            "align_items": null,
            "align_self": null,
            "border": null,
            "bottom": null,
            "display": null,
            "flex": null,
            "flex_flow": null,
            "grid_area": null,
            "grid_auto_columns": null,
            "grid_auto_flow": null,
            "grid_auto_rows": null,
            "grid_column": null,
            "grid_gap": null,
            "grid_row": null,
            "grid_template_areas": null,
            "grid_template_columns": null,
            "grid_template_rows": null,
            "height": null,
            "justify_content": null,
            "justify_items": null,
            "left": null,
            "margin": null,
            "max_height": null,
            "max_width": null,
            "min_height": null,
            "min_width": null,
            "object_fit": null,
            "object_position": null,
            "order": null,
            "overflow": null,
            "overflow_x": null,
            "overflow_y": null,
            "padding": null,
            "right": null,
            "top": null,
            "visibility": null,
            "width": null
          }
        },
        "ff58e978c4514cd4a92b14c8c1a8b797": {
          "model_module": "@jupyter-widgets/controls",
          "model_name": "DescriptionStyleModel",
          "model_module_version": "1.5.0",
          "state": {
            "_model_module": "@jupyter-widgets/controls",
            "_model_module_version": "1.5.0",
            "_model_name": "DescriptionStyleModel",
            "_view_count": null,
            "_view_module": "@jupyter-widgets/base",
            "_view_module_version": "1.2.0",
            "_view_name": "StyleView",
            "description_width": ""
          }
        },
        "619b9752ad374021805a5a0d6250883a": {
          "model_module": "@jupyter-widgets/controls",
          "model_name": "HBoxModel",
          "model_module_version": "1.5.0",
          "state": {
            "_dom_classes": [],
            "_model_module": "@jupyter-widgets/controls",
            "_model_module_version": "1.5.0",
            "_model_name": "HBoxModel",
            "_view_count": null,
            "_view_module": "@jupyter-widgets/controls",
            "_view_module_version": "1.5.0",
            "_view_name": "HBoxView",
            "box_style": "",
            "children": [
              "IPY_MODEL_32bc03f053b74f14999ce8761e0161db",
              "IPY_MODEL_6644205b27a34c3793400bc6e6ccd125",
              "IPY_MODEL_8bb3fad804704c26bd05c24e0d402a3a"
            ],
            "layout": "IPY_MODEL_643991f94ffa43e38b7c84f8af280c16"
          }
        },
        "32bc03f053b74f14999ce8761e0161db": {
          "model_module": "@jupyter-widgets/controls",
          "model_name": "HTMLModel",
          "model_module_version": "1.5.0",
          "state": {
            "_dom_classes": [],
            "_model_module": "@jupyter-widgets/controls",
            "_model_module_version": "1.5.0",
            "_model_name": "HTMLModel",
            "_view_count": null,
            "_view_module": "@jupyter-widgets/controls",
            "_view_module_version": "1.5.0",
            "_view_name": "HTMLView",
            "description": "",
            "description_tooltip": null,
            "layout": "IPY_MODEL_ae0554132ce2428b8a334abd4b13d5ae",
            "placeholder": "​",
            "style": "IPY_MODEL_fe54459f7ad44029ada75e54300ba489",
            "value": "100%"
          }
        },
        "6644205b27a34c3793400bc6e6ccd125": {
          "model_module": "@jupyter-widgets/controls",
          "model_name": "FloatProgressModel",
          "model_module_version": "1.5.0",
          "state": {
            "_dom_classes": [],
            "_model_module": "@jupyter-widgets/controls",
            "_model_module_version": "1.5.0",
            "_model_name": "FloatProgressModel",
            "_view_count": null,
            "_view_module": "@jupyter-widgets/controls",
            "_view_module_version": "1.5.0",
            "_view_name": "ProgressView",
            "bar_style": "success",
            "description": "",
            "description_tooltip": null,
            "layout": "IPY_MODEL_0d4fa9629a2b4befb7facede3dd746a9",
            "max": 46830571,
            "min": 0,
            "orientation": "horizontal",
            "style": "IPY_MODEL_9505c79ff46544a4b2748d21e4629dc3",
            "value": 46830571
          }
        },
        "8bb3fad804704c26bd05c24e0d402a3a": {
          "model_module": "@jupyter-widgets/controls",
          "model_name": "HTMLModel",
          "model_module_version": "1.5.0",
          "state": {
            "_dom_classes": [],
            "_model_module": "@jupyter-widgets/controls",
            "_model_module_version": "1.5.0",
            "_model_name": "HTMLModel",
            "_view_count": null,
            "_view_module": "@jupyter-widgets/controls",
            "_view_module_version": "1.5.0",
            "_view_name": "HTMLView",
            "description": "",
            "description_tooltip": null,
            "layout": "IPY_MODEL_f633c6f3bcb144daa4325e224c607bef",
            "placeholder": "​",
            "style": "IPY_MODEL_a2790c3ce861401fac540499158d0c98",
            "value": " 44.7M/44.7M [00:00&lt;00:00, 172MB/s]"
          }
        },
        "643991f94ffa43e38b7c84f8af280c16": {
          "model_module": "@jupyter-widgets/base",
          "model_name": "LayoutModel",
          "model_module_version": "1.2.0",
          "state": {
            "_model_module": "@jupyter-widgets/base",
            "_model_module_version": "1.2.0",
            "_model_name": "LayoutModel",
            "_view_count": null,
            "_view_module": "@jupyter-widgets/base",
            "_view_module_version": "1.2.0",
            "_view_name": "LayoutView",
            "align_content": null,
            "align_items": null,
            "align_self": null,
            "border": null,
            "bottom": null,
            "display": null,
            "flex": null,
            "flex_flow": null,
            "grid_area": null,
            "grid_auto_columns": null,
            "grid_auto_flow": null,
            "grid_auto_rows": null,
            "grid_column": null,
            "grid_gap": null,
            "grid_row": null,
            "grid_template_areas": null,
            "grid_template_columns": null,
            "grid_template_rows": null,
            "height": null,
            "justify_content": null,
            "justify_items": null,
            "left": null,
            "margin": null,
            "max_height": null,
            "max_width": null,
            "min_height": null,
            "min_width": null,
            "object_fit": null,
            "object_position": null,
            "order": null,
            "overflow": null,
            "overflow_x": null,
            "overflow_y": null,
            "padding": null,
            "right": null,
            "top": null,
            "visibility": null,
            "width": null
          }
        },
        "ae0554132ce2428b8a334abd4b13d5ae": {
          "model_module": "@jupyter-widgets/base",
          "model_name": "LayoutModel",
          "model_module_version": "1.2.0",
          "state": {
            "_model_module": "@jupyter-widgets/base",
            "_model_module_version": "1.2.0",
            "_model_name": "LayoutModel",
            "_view_count": null,
            "_view_module": "@jupyter-widgets/base",
            "_view_module_version": "1.2.0",
            "_view_name": "LayoutView",
            "align_content": null,
            "align_items": null,
            "align_self": null,
            "border": null,
            "bottom": null,
            "display": null,
            "flex": null,
            "flex_flow": null,
            "grid_area": null,
            "grid_auto_columns": null,
            "grid_auto_flow": null,
            "grid_auto_rows": null,
            "grid_column": null,
            "grid_gap": null,
            "grid_row": null,
            "grid_template_areas": null,
            "grid_template_columns": null,
            "grid_template_rows": null,
            "height": null,
            "justify_content": null,
            "justify_items": null,
            "left": null,
            "margin": null,
            "max_height": null,
            "max_width": null,
            "min_height": null,
            "min_width": null,
            "object_fit": null,
            "object_position": null,
            "order": null,
            "overflow": null,
            "overflow_x": null,
            "overflow_y": null,
            "padding": null,
            "right": null,
            "top": null,
            "visibility": null,
            "width": null
          }
        },
        "fe54459f7ad44029ada75e54300ba489": {
          "model_module": "@jupyter-widgets/controls",
          "model_name": "DescriptionStyleModel",
          "model_module_version": "1.5.0",
          "state": {
            "_model_module": "@jupyter-widgets/controls",
            "_model_module_version": "1.5.0",
            "_model_name": "DescriptionStyleModel",
            "_view_count": null,
            "_view_module": "@jupyter-widgets/base",
            "_view_module_version": "1.2.0",
            "_view_name": "StyleView",
            "description_width": ""
          }
        },
        "0d4fa9629a2b4befb7facede3dd746a9": {
          "model_module": "@jupyter-widgets/base",
          "model_name": "LayoutModel",
          "model_module_version": "1.2.0",
          "state": {
            "_model_module": "@jupyter-widgets/base",
            "_model_module_version": "1.2.0",
            "_model_name": "LayoutModel",
            "_view_count": null,
            "_view_module": "@jupyter-widgets/base",
            "_view_module_version": "1.2.0",
            "_view_name": "LayoutView",
            "align_content": null,
            "align_items": null,
            "align_self": null,
            "border": null,
            "bottom": null,
            "display": null,
            "flex": null,
            "flex_flow": null,
            "grid_area": null,
            "grid_auto_columns": null,
            "grid_auto_flow": null,
            "grid_auto_rows": null,
            "grid_column": null,
            "grid_gap": null,
            "grid_row": null,
            "grid_template_areas": null,
            "grid_template_columns": null,
            "grid_template_rows": null,
            "height": null,
            "justify_content": null,
            "justify_items": null,
            "left": null,
            "margin": null,
            "max_height": null,
            "max_width": null,
            "min_height": null,
            "min_width": null,
            "object_fit": null,
            "object_position": null,
            "order": null,
            "overflow": null,
            "overflow_x": null,
            "overflow_y": null,
            "padding": null,
            "right": null,
            "top": null,
            "visibility": null,
            "width": null
          }
        },
        "9505c79ff46544a4b2748d21e4629dc3": {
          "model_module": "@jupyter-widgets/controls",
          "model_name": "ProgressStyleModel",
          "model_module_version": "1.5.0",
          "state": {
            "_model_module": "@jupyter-widgets/controls",
            "_model_module_version": "1.5.0",
            "_model_name": "ProgressStyleModel",
            "_view_count": null,
            "_view_module": "@jupyter-widgets/base",
            "_view_module_version": "1.2.0",
            "_view_name": "StyleView",
            "bar_color": null,
            "description_width": ""
          }
        },
        "f633c6f3bcb144daa4325e224c607bef": {
          "model_module": "@jupyter-widgets/base",
          "model_name": "LayoutModel",
          "model_module_version": "1.2.0",
          "state": {
            "_model_module": "@jupyter-widgets/base",
            "_model_module_version": "1.2.0",
            "_model_name": "LayoutModel",
            "_view_count": null,
            "_view_module": "@jupyter-widgets/base",
            "_view_module_version": "1.2.0",
            "_view_name": "LayoutView",
            "align_content": null,
            "align_items": null,
            "align_self": null,
            "border": null,
            "bottom": null,
            "display": null,
            "flex": null,
            "flex_flow": null,
            "grid_area": null,
            "grid_auto_columns": null,
            "grid_auto_flow": null,
            "grid_auto_rows": null,
            "grid_column": null,
            "grid_gap": null,
            "grid_row": null,
            "grid_template_areas": null,
            "grid_template_columns": null,
            "grid_template_rows": null,
            "height": null,
            "justify_content": null,
            "justify_items": null,
            "left": null,
            "margin": null,
            "max_height": null,
            "max_width": null,
            "min_height": null,
            "min_width": null,
            "object_fit": null,
            "object_position": null,
            "order": null,
            "overflow": null,
            "overflow_x": null,
            "overflow_y": null,
            "padding": null,
            "right": null,
            "top": null,
            "visibility": null,
            "width": null
          }
        },
        "a2790c3ce861401fac540499158d0c98": {
          "model_module": "@jupyter-widgets/controls",
          "model_name": "DescriptionStyleModel",
          "model_module_version": "1.5.0",
          "state": {
            "_model_module": "@jupyter-widgets/controls",
            "_model_module_version": "1.5.0",
            "_model_name": "DescriptionStyleModel",
            "_view_count": null,
            "_view_module": "@jupyter-widgets/base",
            "_view_module_version": "1.2.0",
            "_view_name": "StyleView",
            "description_width": ""
          }
        }
      }
    },
    "accelerator": "GPU",
    "gpuClass": "standard"
  },
  "cells": [
    {
      "cell_type": "markdown",
      "metadata": {
        "id": "view-in-github",
        "colab_type": "text"
      },
      "source": [
        "<a href=\"https://colab.research.google.com/github/tmogoa/melamine/blob/main/MelamineClassification.ipynb\" target=\"_parent\"><img src=\"https://colab.research.google.com/assets/colab-badge.svg\" alt=\"Open In Colab\"/></a>"
      ]
    },
    {
      "cell_type": "code",
      "source": [
        "!wget https://raw.githubusercontent.com/MicrosoftDocs/pytorchfundamentals/main/computer-vision-pytorch/pytorchcv.py"
      ],
      "metadata": {
        "colab": {
          "base_uri": "https://localhost:8080/"
        },
        "id": "DpF57arRXSQY",
        "outputId": "dcde84f6-2846-4610-aee7-bf0accf447c1"
      },
      "execution_count": 1,
      "outputs": [
        {
          "output_type": "stream",
          "name": "stdout",
          "text": [
            "--2022-11-04 06:57:50--  https://raw.githubusercontent.com/MicrosoftDocs/pytorchfundamentals/main/computer-vision-pytorch/pytorchcv.py\n",
            "Resolving raw.githubusercontent.com (raw.githubusercontent.com)... 185.199.110.133, 185.199.108.133, 185.199.109.133, ...\n",
            "Connecting to raw.githubusercontent.com (raw.githubusercontent.com)|185.199.110.133|:443... connected.\n",
            "HTTP request sent, awaiting response... 200 OK\n",
            "Length: 6539 (6.4K) [text/plain]\n",
            "Saving to: ‘pytorchcv.py’\n",
            "\n",
            "pytorchcv.py        100%[===================>]   6.39K  --.-KB/s    in 0s      \n",
            "\n",
            "2022-11-04 06:57:50 (81.2 MB/s) - ‘pytorchcv.py’ saved [6539/6539]\n",
            "\n"
          ]
        }
      ]
    },
    {
      "cell_type": "code",
      "source": [
        "!pip install torchinfo"
      ],
      "metadata": {
        "colab": {
          "base_uri": "https://localhost:8080/"
        },
        "id": "sbiFkrdaY64A",
        "outputId": "023d40c4-c899-463b-b55a-dde0beedcb94"
      },
      "execution_count": 2,
      "outputs": [
        {
          "output_type": "stream",
          "name": "stdout",
          "text": [
            "Looking in indexes: https://pypi.org/simple, https://us-python.pkg.dev/colab-wheels/public/simple/\n",
            "Collecting torchinfo\n",
            "  Downloading torchinfo-1.7.1-py3-none-any.whl (22 kB)\n",
            "Installing collected packages: torchinfo\n",
            "Successfully installed torchinfo-1.7.1\n"
          ]
        }
      ]
    },
    {
      "cell_type": "markdown",
      "source": [
        "#**Convolutional Neural Networks**"
      ],
      "metadata": {
        "id": "6-mIwCikiLTv"
      }
    },
    {
      "cell_type": "markdown",
      "source": [
        "# Cats vs Dogs"
      ],
      "metadata": {
        "id": "c8fB0mcToHb9"
      }
    },
    {
      "cell_type": "code",
      "source": [
        "import torch\n",
        "import torch.nn as nn\n",
        "import torchvision\n",
        "import torchvision.transforms as transforms\n",
        "import matplotlib.pyplot as plt\n",
        "from torchinfo import summary\n",
        "import numpy as np\n",
        "import os\n",
        "\n",
        "from pytorchcv import train, plot_results, display_dataset, train_long, check_image_dir"
      ],
      "metadata": {
        "id": "rqUvfr0mnR0D"
      },
      "execution_count": 3,
      "outputs": []
    },
    {
      "cell_type": "code",
      "source": [
        "check_image_dir('/content/drive/Shareddrives/Melamine/classf_ds/mel/*.*')\n",
        "check_image_dir('/content/drive/Shareddrives/Melamine/classf_ds/nev/*.*')"
      ],
      "metadata": {
        "id": "0M4fFHYjp9CG"
      },
      "execution_count": 4,
      "outputs": []
    },
    {
      "cell_type": "markdown",
      "source": [
        "# **Hyperparameters**"
      ],
      "metadata": {
        "id": "d4ySA05GcaK4"
      }
    },
    {
      "cell_type": "code",
      "source": [
        "NUM_EPOCHS = 10\n",
        "IMAGE_DIR = \"/content/drive/Shareddrives/Melamine/classf_ds\"\n",
        "BATCH_SIZE= 32"
      ],
      "metadata": {
        "id": "UUdVz-hwcZqG"
      },
      "execution_count": 50,
      "outputs": []
    },
    {
      "cell_type": "code",
      "source": [
        "data_s  = range(30)"
      ],
      "metadata": {
        "id": "uZLx8neShi-A"
      },
      "execution_count": 29,
      "outputs": []
    },
    {
      "cell_type": "code",
      "source": [
        "std_normalize = transforms.Normalize(\n",
        "    mean=[0.485, 0.456, 0.406],\n",
        "    std=[0.229, 0.224, 0.225]\n",
        ")\n",
        "trans = transforms.Compose(\n",
        "    [\n",
        "        transforms.Resize(256),\n",
        "        transforms.CenterCrop(224),\n",
        "        transforms.ToTensor(),\n",
        "        std_normalize\n",
        "    ]\n",
        ")\n",
        "dataset = torchvision.datasets.ImageFolder(\n",
        "    IMAGE_DIR, \n",
        "    transform=trans\n",
        ")\n",
        "trainset, testset = torch.utils.data.random_split(\n",
        "    dataset,\n",
        "    [\n",
        "        int(0.8 * len(dataset)), \n",
        "        len(dataset) - int(0.8 * len(dataset))\n",
        "    ],\n",
        "    generator=torch.Generator().manual_seed(42)\n",
        ")\n",
        "print(f\"Len: {len(dataset)}\")\n",
        "display_dataset(dataset)"
      ],
      "metadata": {
        "colab": {
          "base_uri": "https://localhost:8080/",
          "height": 119
        },
        "id": "aBmR00Mp8DlF",
        "outputId": "28aa0d9f-a023-4b2d-a8c1-6a847e3b405d"
      },
      "execution_count": 49,
      "outputs": [
        {
          "output_type": "stream",
          "name": "stdout",
          "text": [
            "Len: 1499\n"
          ]
        },
        {
          "output_type": "display_data",
          "data": {
            "text/plain": [
              "<Figure size 1080x216 with 10 Axes>"
            ],
            "image/png": "[encoded data removed]"
          },
          "metadata": {
            "needs_background": "light"
          }
        }
      ]
    },
    {
      "cell_type": "markdown",
      "source": [
        "# VGG!! HERE WE COME"
      ],
      "metadata": {
        "id": "NZhBXk7P-3js"
      }
    },
    {
      "cell_type": "code",
      "source": [
        "vgg = torchvision.models.vgg16(pretrained=True)\n",
        "sample_image = dataset[0][0].unsqueeze(0)# adds dimension on specified position\n",
        "res = vgg(sample_image)\n",
        "print(res[0].argmax())"
      ],
      "metadata": {
        "colab": {
          "base_uri": "https://localhost:8080/",
          "height": 173,
          "referenced_widgets": [
            "b5bd6deb1dcc4bf48bf0460702651a78",
            "27b4ad7ae6d146799a878a4c94c0a89d",
            "32d0bcbc94e346e69316047f1dd09b39",
            "c003277cca8f4db18d4b23f3025fcf6a",
            "21421ea61340476ebfc22248be63f8eb",
            "f546c6d81301480ab4a44639389b638f",
            "860e0318f6834641b6253b69eb623f14",
            "2a721b254da0407eaf2e8994c5a5bf11",
            "af7eb9c52b1745b4ac8e8d13f0ddce45",
            "f10e79f62b384026a02f6ae314ae1c34",
            "ff58e978c4514cd4a92b14c8c1a8b797"
          ]
        },
        "id": "3_h6nJVA97gN",
        "outputId": "e0e313cf-6081-40f3-923e-905273eb4f53"
      },
      "execution_count": 60,
      "outputs": [
        {
          "output_type": "stream",
          "name": "stderr",
          "text": [
            "/usr/local/lib/python3.7/dist-packages/torchvision/models/_utils.py:209: UserWarning: The parameter 'pretrained' is deprecated since 0.13 and will be removed in 0.15, please use 'weights' instead.\n",
            "  f\"The parameter '{pretrained_param}' is deprecated since 0.13 and will be removed in 0.15, \"\n",
            "/usr/local/lib/python3.7/dist-packages/torchvision/models/_utils.py:223: UserWarning: Arguments other than a weight enum or `None` for 'weights' are deprecated since 0.13 and will be removed in 0.15. The current behavior is equivalent to passing `weights=VGG16_Weights.IMAGENET1K_V1`. You can also use `weights=VGG16_Weights.DEFAULT` to get the most up-to-date weights.\n",
            "  warnings.warn(msg)\n",
            "Downloading: \"https://download.pytorch.org/models/vgg16-397923af.pth\" to /root/.cache/torch/hub/checkpoints/vgg16-397923af.pth\n"
          ]
        },
        {
          "output_type": "display_data",
          "data": {
            "text/plain": [
              "  0%|          | 0.00/528M [00:00<?, ?B/s]"
            ],
            "application/vnd.jupyter.widget-view+json": {
              "version_major": 2,
              "version_minor": 0,
              "model_id": "b5bd6deb1dcc4bf48bf0460702651a78"
            }
          },
          "metadata": {}
        },
        {
          "output_type": "stream",
          "name": "stdout",
          "text": [
            "tensor(116)\n"
          ]
        }
      ]
    },
    {
      "cell_type": "code",
      "source": [
        "summary(vgg, input_size=(1, 3, 224, 224))"
      ],
      "metadata": {
        "id": "sS9McDB0BcOe"
      },
      "execution_count": null,
      "outputs": []
    },
    {
      "cell_type": "code",
      "source": [
        "print(vgg)"
      ],
      "metadata": {
        "colab": {
          "base_uri": "https://localhost:8080/"
        },
        "id": "HdlSJtsrufK9",
        "outputId": "d38fb1d2-608f-4e6d-e96f-dcb6cfed8f4f"
      },
      "execution_count": 62,
      "outputs": [
        {
          "output_type": "stream",
          "name": "stdout",
          "text": [
            "VGG(\n",
            "  (features): Sequential(\n",
            "    (0): Conv2d(3, 64, kernel_size=(3, 3), stride=(1, 1), padding=(1, 1))\n",
            "    (1): ReLU(inplace=True)\n",
            "    (2): Conv2d(64, 64, kernel_size=(3, 3), stride=(1, 1), padding=(1, 1))\n",
            "    (3): ReLU(inplace=True)\n",
            "    (4): MaxPool2d(kernel_size=2, stride=2, padding=0, dilation=1, ceil_mode=False)\n",
            "    (5): Conv2d(64, 128, kernel_size=(3, 3), stride=(1, 1), padding=(1, 1))\n",
            "    (6): ReLU(inplace=True)\n",
            "    (7): Conv2d(128, 128, kernel_size=(3, 3), stride=(1, 1), padding=(1, 1))\n",
            "    (8): ReLU(inplace=True)\n",
            "    (9): MaxPool2d(kernel_size=2, stride=2, padding=0, dilation=1, ceil_mode=False)\n",
            "    (10): Conv2d(128, 256, kernel_size=(3, 3), stride=(1, 1), padding=(1, 1))\n",
            "    (11): ReLU(inplace=True)\n",
            "    (12): Conv2d(256, 256, kernel_size=(3, 3), stride=(1, 1), padding=(1, 1))\n",
            "    (13): ReLU(inplace=True)\n",
            "    (14): Conv2d(256, 256, kernel_size=(3, 3), stride=(1, 1), padding=(1, 1))\n",
            "    (15): ReLU(inplace=True)\n",
            "    (16): MaxPool2d(kernel_size=2, stride=2, padding=0, dilation=1, ceil_mode=False)\n",
            "    (17): Conv2d(256, 512, kernel_size=(3, 3), stride=(1, 1), padding=(1, 1))\n",
            "    (18): ReLU(inplace=True)\n",
            "    (19): Conv2d(512, 512, kernel_size=(3, 3), stride=(1, 1), padding=(1, 1))\n",
            "    (20): ReLU(inplace=True)\n",
            "    (21): Conv2d(512, 512, kernel_size=(3, 3), stride=(1, 1), padding=(1, 1))\n",
            "    (22): ReLU(inplace=True)\n",
            "    (23): MaxPool2d(kernel_size=2, stride=2, padding=0, dilation=1, ceil_mode=False)\n",
            "    (24): Conv2d(512, 512, kernel_size=(3, 3), stride=(1, 1), padding=(1, 1))\n",
            "    (25): ReLU(inplace=True)\n",
            "    (26): Conv2d(512, 512, kernel_size=(3, 3), stride=(1, 1), padding=(1, 1))\n",
            "    (27): ReLU(inplace=True)\n",
            "    (28): Conv2d(512, 512, kernel_size=(3, 3), stride=(1, 1), padding=(1, 1))\n",
            "    (29): ReLU(inplace=True)\n",
            "    (30): MaxPool2d(kernel_size=2, stride=2, padding=0, dilation=1, ceil_mode=False)\n",
            "  )\n",
            "  (avgpool): AdaptiveAvgPool2d(output_size=(7, 7))\n",
            "  (classifier): Sequential(\n",
            "    (0): Linear(in_features=25088, out_features=4096, bias=True)\n",
            "    (1): ReLU(inplace=True)\n",
            "    (2): Dropout(p=0.5, inplace=False)\n",
            "    (3): Linear(in_features=4096, out_features=4096, bias=True)\n",
            "    (4): ReLU(inplace=True)\n",
            "    (5): Dropout(p=0.5, inplace=False)\n",
            "    (6): Linear(in_features=4096, out_features=1000, bias=True)\n",
            "  )\n",
            ")\n"
          ]
        }
      ]
    },
    {
      "cell_type": "markdown",
      "source": [
        "In addition to the layer we already know, there is also another layer type called Dropout. These layers act as regularization technique. Regularization makes slight modifications to the learning algorithm so the model generalizes better. During training, dropout layers discard some proportion (around 30%) of the neurons in the previous layer, and training happens without them. This helps to get the optimization process out of local minima, and to distribute decisive power between different neural paths, which improves overall stability of the network."
      ],
      "metadata": {
        "id": "NOi85KGYCF2h"
      }
    },
    {
      "cell_type": "code",
      "source": [
        "device = 'cuda' if torch.cuda.is_available() else 'cpu'\n",
        "\n",
        "print('Doing computations on device = {}'.format(device))\n",
        "vgg.to(device)\n",
        "sample_image = sample_image.to(device)\n",
        "\n",
        "vgg(sample_image).argmax()"
      ],
      "metadata": {
        "colab": {
          "base_uri": "https://localhost:8080/"
        },
        "id": "SOkxkX6iAe3V",
        "outputId": "c3c985b9-90c0-4208-b6cb-3d76497c5654"
      },
      "execution_count": null,
      "outputs": [
        {
          "output_type": "stream",
          "name": "stdout",
          "text": [
            "Doing computations on device = cuda\n"
          ]
        },
        {
          "output_type": "execute_result",
          "data": {
            "text/plain": [
              "tensor(282, device='cuda:0')"
            ]
          },
          "metadata": {},
          "execution_count": 12
        }
      ]
    },
    {
      "cell_type": "code",
      "source": [
        "res = vgg.features(sample_image).cpu()\n",
        "plt.figure(figsize=(15, 3))\n",
        "plt.imshow(res.detach().view(-1, 512))\n",
        "print(res.size())"
      ],
      "metadata": {
        "colab": {
          "base_uri": "https://localhost:8080/",
          "height": 117
        },
        "id": "fsjm-nFnCgVA",
        "outputId": "1a6634c6-1cfd-44e1-fd4f-873fa684eb04"
      },
      "execution_count": null,
      "outputs": [
        {
          "output_type": "stream",
          "name": "stdout",
          "text": [
            "torch.Size([1, 512, 7, 7])\n"
          ]
        },
        {
          "output_type": "display_data",
          "data": {
            "text/plain": [
              "<Figure size 1080x216 with 1 Axes>"
            ],
            "image/png": "[encoded data removed]"
          },
          "metadata": {
            "needs_background": "light"
          }
        }
      ]
    },
    {
      "cell_type": "code",
      "source": [
        "bs = 8\n",
        "dl = torch.utils.data.DataLoader(\n",
        "    dataset,\n",
        "    batch_size=bs,\n",
        "    shuffle=True\n",
        ")\n",
        "num = bs * 100\n",
        "feature_tensor = torch.zeros(num, 512*7*7).to(device)\n",
        "label_tensor = torch.zeros(num).to(device)\n",
        "\n",
        "i = 0\n",
        "for x, l in dl:\n",
        "    with torch.no_grad():\n",
        "        f = vgg.features(x.to(device))\n",
        "        feature_tensor[i:i+bs] = f.view(bs, -1)\n",
        "        label_tensor[i:i+bs] = l\n",
        "        i += bs\n",
        "        print('.', end='')# 'end' defines lat char to be printed, we overwrite the newline\n",
        "        if i >=num:\n",
        "            break\n"
      ],
      "metadata": {
        "id": "2UIaOK3uC3Hs"
      },
      "execution_count": null,
      "outputs": []
    },
    {
      "cell_type": "code",
      "source": [
        "vgg_dataset = torch.utils.data.TensorDataset(\n",
        "    feature_tensor,\n",
        "    label_tensor.to(torch.long)# data-type conversion\n",
        ")\n",
        "train_ds, test_ds = torch.utils.data.random_split(\n",
        "    vgg_dataset,\n",
        "    [700, 100]\n",
        ")\n",
        "\n",
        "train_loader = torch.utils.data.DataLoader(\n",
        "    train_ds,\n",
        "    batch_size=32\n",
        ")\n",
        "test_loader = torch.utils.data.DataLoader(\n",
        "    test_ds,\n",
        "    batch_size=32\n",
        ")"
      ],
      "metadata": {
        "id": "JcYPGhRDEYXu"
      },
      "execution_count": null,
      "outputs": []
    },
    {
      "cell_type": "code",
      "source": [
        "net = torch.nn.Sequential(\n",
        "    torch.nn.Linear(512*7*7, 2),\n",
        "    torch.nn.LogSoftmax()\n",
        ").to(device)\n",
        "\n",
        "history = train(net, train_loader, test_loader)"
      ],
      "metadata": {
        "id": "ujI19PH9Fah1"
      },
      "execution_count": null,
      "outputs": []
    },
    {
      "cell_type": "code",
      "source": [
        "print(vgg)"
      ],
      "metadata": {
        "id": "EVsuMGffGRB5"
      },
      "execution_count": null,
      "outputs": []
    },
    {
      "cell_type": "code",
      "source": [
        "vgg.classifier = torch.nn.Linear(\n",
        "    25088,\n",
        "    2\n",
        ").to(device)\n",
        "\n",
        "for x in vgg.features.parameters():\n",
        "    x.requires_grad = False\n",
        "\n",
        "summary(\n",
        "    vgg,\n",
        "    (1, 3, 244, 244)\n",
        ")"
      ],
      "metadata": {
        "id": "Ab0KyjmDHjo0"
      },
      "execution_count": null,
      "outputs": []
    },
    {
      "cell_type": "code",
      "source": [
        "trainset, testset = torch.utils.data.random_split(\n",
        "    dataset,\n",
        "    [20000, len(dataset)-20000]\n",
        ")\n",
        "train_loader = torch.utils.data.DataLoader(\n",
        "    trainset,\n",
        "    batch_size=16\n",
        ")\n",
        "test_loader = torch.utils.data.DataLoader(\n",
        "    testset,\n",
        "    batch_size=16\n",
        ")\n",
        "\n",
        "train_long(\n",
        "    vgg,\n",
        "    train_loader,\n",
        "    test_loader,\n",
        "    loss_fn=torch.nn.CrossEntropyLoss(),\n",
        "    epochs=1,\n",
        "    print_freq=90\n",
        ")"
      ],
      "metadata": {
        "colab": {
          "base_uri": "https://localhost:8080/"
        },
        "id": "TLMI1H7xIUWS",
        "outputId": "a517dfcf-5e3a-4d4b-bcbf-927a7207cbc9"
      },
      "execution_count": null,
      "outputs": [
        {
          "output_type": "stream",
          "name": "stdout",
          "text": [
            "Epoch 0, minibatch 0: train acc = 0.6875, train loss = 0.0414191409945488\n",
            "Epoch 0, minibatch 90: train acc = 0.9471153846153846, train loss = 0.1127082279750279\n",
            "Epoch 0, minibatch 180: train acc = 0.9571823204419889, train loss = 0.12153025885313255\n",
            "Epoch 0, minibatch 270: train acc = 0.9617158671586716, train loss = 0.1181141899080734\n",
            "Epoch 0, minibatch 360: train acc = 0.9648545706371191, train loss = 0.11229192252964855\n",
            "Epoch 0, minibatch 450: train acc = 0.9667405764966741, train loss = 0.11736961584662123\n",
            "Epoch 0, minibatch 540: train acc = 0.967768022181146, train loss = 0.1222287528836573\n",
            "Epoch 0, minibatch 630: train acc = 0.9694928684627575, train loss = 0.11987291387446142\n",
            "Epoch 0, minibatch 720: train acc = 0.9702669902912622, train loss = 0.12441528785906618\n",
            "Epoch 0, minibatch 810: train acc = 0.9711004932182491, train loss = 0.12586700401823558\n",
            "Epoch 0, minibatch 900: train acc = 0.9714900110987791, train loss = 0.13432786202721803\n",
            "Epoch 0, minibatch 990: train acc = 0.9716826437941474, train loss = 0.1399523660946566\n",
            "Epoch 0, minibatch 1080: train acc = 0.9724213691026827, train loss = 0.14095699511447735\n",
            "Epoch 0, minibatch 1170: train acc = 0.9727263023057217, train loss = 0.1450403149976983\n"
          ]
        },
        {
          "output_type": "stream",
          "name": "stderr",
          "text": [
            "/usr/local/lib/python3.7/dist-packages/PIL/TiffImagePlugin.py:770: UserWarning: Possibly corrupt EXIF data.  Expecting to read 32 bytes but only got 0. Skipping tag 270\n",
            "  \" Skipping tag %s\" % (size, len(data), tag)\n",
            "/usr/local/lib/python3.7/dist-packages/PIL/TiffImagePlugin.py:770: UserWarning: Possibly corrupt EXIF data.  Expecting to read 5 bytes but only got 0. Skipping tag 271\n",
            "  \" Skipping tag %s\" % (size, len(data), tag)\n",
            "/usr/local/lib/python3.7/dist-packages/PIL/TiffImagePlugin.py:770: UserWarning: Possibly corrupt EXIF data.  Expecting to read 8 bytes but only got 0. Skipping tag 272\n",
            "  \" Skipping tag %s\" % (size, len(data), tag)\n",
            "/usr/local/lib/python3.7/dist-packages/PIL/TiffImagePlugin.py:770: UserWarning: Possibly corrupt EXIF data.  Expecting to read 8 bytes but only got 0. Skipping tag 282\n",
            "  \" Skipping tag %s\" % (size, len(data), tag)\n",
            "/usr/local/lib/python3.7/dist-packages/PIL/TiffImagePlugin.py:770: UserWarning: Possibly corrupt EXIF data.  Expecting to read 8 bytes but only got 0. Skipping tag 283\n",
            "  \" Skipping tag %s\" % (size, len(data), tag)\n",
            "/usr/local/lib/python3.7/dist-packages/PIL/TiffImagePlugin.py:770: UserWarning: Possibly corrupt EXIF data.  Expecting to read 20 bytes but only got 0. Skipping tag 306\n",
            "  \" Skipping tag %s\" % (size, len(data), tag)\n",
            "/usr/local/lib/python3.7/dist-packages/PIL/TiffImagePlugin.py:770: UserWarning: Possibly corrupt EXIF data.  Expecting to read 48 bytes but only got 0. Skipping tag 532\n",
            "  \" Skipping tag %s\" % (size, len(data), tag)\n",
            "/usr/local/lib/python3.7/dist-packages/PIL/TiffImagePlugin.py:788: UserWarning: Corrupt EXIF data.  Expecting to read 2 bytes but only got 0. \n",
            "  warnings.warn(str(msg))\n"
          ]
        },
        {
          "output_type": "stream",
          "name": "stdout",
          "text": [
            "Epoch 0 done, validation acc = 0.9793917567026811, validation loss = 0.17807963028961585\n"
          ]
        }
      ]
    },
    {
      "cell_type": "markdown",
      "source": [
        "save the model!!"
      ],
      "metadata": {
        "id": "4fqorpFEJ9_m"
      }
    },
    {
      "cell_type": "code",
      "source": [
        "torch.save(\n",
        "    vgg,\n",
        "    'data/cats_dogs.pth'\n",
        ")"
      ],
      "metadata": {
        "id": "3bxMmaH8JUUN"
      },
      "execution_count": null,
      "outputs": []
    },
    {
      "cell_type": "code",
      "source": [
        "#load the model\n",
        "vgg = torch.load('data/cats_dogs.pth')"
      ],
      "metadata": {
        "id": "iSvj3AgeKDbe"
      },
      "execution_count": null,
      "outputs": []
    },
    {
      "cell_type": "markdown",
      "source": [
        "# ***Next try with ResNet***"
      ],
      "metadata": {
        "id": "UG4VDRgkLdLM"
      }
    },
    {
      "cell_type": "code",
      "source": [
        "res_model = torchvision.models.resnet18(pretrained=True)"
      ],
      "metadata": {
        "id": "ywDFoZGKLhpc",
        "colab": {
          "base_uri": "https://localhost:8080/",
          "height": 156,
          "referenced_widgets": [
            "619b9752ad374021805a5a0d6250883a",
            "32bc03f053b74f14999ce8761e0161db",
            "6644205b27a34c3793400bc6e6ccd125",
            "8bb3fad804704c26bd05c24e0d402a3a",
            "643991f94ffa43e38b7c84f8af280c16",
            "ae0554132ce2428b8a334abd4b13d5ae",
            "fe54459f7ad44029ada75e54300ba489",
            "0d4fa9629a2b4befb7facede3dd746a9",
            "9505c79ff46544a4b2748d21e4629dc3",
            "f633c6f3bcb144daa4325e224c607bef",
            "a2790c3ce861401fac540499158d0c98"
          ]
        },
        "outputId": "0fe73ba4-ef42-43c5-ca8d-53bec9e2f6bc"
      },
      "execution_count": 41,
      "outputs": [
        {
          "output_type": "stream",
          "name": "stderr",
          "text": [
            "/usr/local/lib/python3.7/dist-packages/torchvision/models/_utils.py:209: UserWarning: The parameter 'pretrained' is deprecated since 0.13 and will be removed in 0.15, please use 'weights' instead.\n",
            "  f\"The parameter '{pretrained_param}' is deprecated since 0.13 and will be removed in 0.15, \"\n",
            "/usr/local/lib/python3.7/dist-packages/torchvision/models/_utils.py:223: UserWarning: Arguments other than a weight enum or `None` for 'weights' are deprecated since 0.13 and will be removed in 0.15. The current behavior is equivalent to passing `weights=ResNet18_Weights.IMAGENET1K_V1`. You can also use `weights=ResNet18_Weights.DEFAULT` to get the most up-to-date weights.\n",
            "  warnings.warn(msg)\n",
            "Downloading: \"https://download.pytorch.org/models/resnet18-f37072fd.pth\" to /root/.cache/torch/hub/checkpoints/resnet18-f37072fd.pth\n"
          ]
        },
        {
          "output_type": "display_data",
          "data": {
            "text/plain": [
              "  0%|          | 0.00/44.7M [00:00<?, ?B/s]"
            ],
            "application/vnd.jupyter.widget-view+json": {
              "version_major": 2,
              "version_minor": 0,
              "model_id": "619b9752ad374021805a5a0d6250883a"
            }
          },
          "metadata": {}
        }
      ]
    },
    {
      "cell_type": "code",
      "source": [
        "summary(res_model, input_size=(1, 3, 224, 224))"
      ],
      "metadata": {
        "id": "94Mmp8YhclDS"
      },
      "execution_count": null,
      "outputs": []
    },
    {
      "cell_type": "code",
      "source": [
        "print(res_model)"
      ],
      "metadata": {
        "id": "Iinsct1VulnD"
      },
      "execution_count": null,
      "outputs": []
    },
    {
      "cell_type": "code",
      "source": [
        "device = 'cuda' if torch.cuda.is_available() else 'cpu'\n",
        "\n",
        "res_model.to(device)"
      ],
      "metadata": {
        "id": "LSLkrW48dGe9"
      },
      "execution_count": null,
      "outputs": []
    },
    {
      "cell_type": "code",
      "source": [
        "res_model.fc = torch.nn.Linear(\n",
        "    512, # determined based on structure of architecture\n",
        "    2\n",
        ").to(device)\n",
        "device"
      ],
      "metadata": {
        "colab": {
          "base_uri": "https://localhost:8080/",
          "height": 35
        },
        "id": "JFxIVDl8dnpr",
        "outputId": "a7cbb615-35ae-4c1b-be1d-65bc39941b56"
      },
      "execution_count": 43,
      "outputs": [
        {
          "output_type": "execute_result",
          "data": {
            "text/plain": [
              "'cuda'"
            ],
            "application/vnd.google.colaboratory.intrinsic+json": {
              "type": "string"
            }
          },
          "metadata": {},
          "execution_count": 43
        }
      ]
    },
    {
      "cell_type": "code",
      "source": [
        "train_loader = torch.utils.data.DataLoader(\n",
        "    trainset,\n",
        "    batch_size=BATCH_SIZE\n",
        ")\n",
        "test_loader = torch.utils.data.DataLoader(\n",
        "    testset,\n",
        "    batch_size=BATCH_SIZE\n",
        ")\n",
        "\n",
        "# train_long(\n",
        "#     res_model,\n",
        "#     train_loader,\n",
        "#     test_loader,\n",
        "#     loss_fn=torch.nn.CrossEntropyLoss(),\n",
        "#     epochs=NUM_EPOCHS,\n",
        "#     lr=0.0001,\n",
        "#     print_freq=90\n",
        "# )"
      ],
      "metadata": {
        "id": "v5BZTwn4ekoZ"
      },
      "execution_count": 46,
      "outputs": []
    },
    {
      "cell_type": "code",
      "source": [
        "#last layer fine tune\n",
        "resnet = torchvision.models.resnet18(pretrained=True)\n",
        "for param in resnet.parameters():\n",
        "    param.requires_grad = False\n",
        "for param in resnet.fc.parameters():\n",
        "    param.requires_grad = True\n",
        "resnet.fc = torch.nn.Linear(512, 2)\n",
        "resnet = resnet.to(device)"
      ],
      "metadata": {
        "colab": {
          "base_uri": "https://localhost:8080/"
        },
        "id": "LD_TaisCf1JF",
        "outputId": "097f61c0-361d-4ce1-98b0-52402646297f"
      },
      "execution_count": 65,
      "outputs": [
        {
          "output_type": "stream",
          "name": "stderr",
          "text": [
            "/usr/local/lib/python3.7/dist-packages/torchvision/models/_utils.py:209: UserWarning: The parameter 'pretrained' is deprecated since 0.13 and will be removed in 0.15, please use 'weights' instead.\n",
            "  f\"The parameter '{pretrained_param}' is deprecated since 0.13 and will be removed in 0.15, \"\n",
            "/usr/local/lib/python3.7/dist-packages/torchvision/models/_utils.py:223: UserWarning: Arguments other than a weight enum or `None` for 'weights' are deprecated since 0.13 and will be removed in 0.15. The current behavior is equivalent to passing `weights=ResNet18_Weights.IMAGENET1K_V1`. You can also use `weights=ResNet18_Weights.DEFAULT` to get the most up-to-date weights.\n",
            "  warnings.warn(msg)\n"
          ]
        }
      ]
    },
    {
      "cell_type": "code",
      "source": [],
      "metadata": {
        "id": "gq73nBlquIm3"
      },
      "execution_count": null,
      "outputs": []
    },
    {
      "cell_type": "code",
      "source": [
        "train_long(\n",
        "    resnet,\n",
        "    train_loader,\n",
        "    test_loader,\n",
        "    loss_fn=torch.nn.CrossEntropyLoss(),\n",
        "    epochs=NUM_EPOCHS,\n",
        "    print_freq=10\n",
        ")"
      ],
      "metadata": {
        "colab": {
          "base_uri": "https://localhost:8080/"
        },
        "id": "c796B4ariS4O",
        "outputId": "82cc5cca-a7b8-40be-c2bf-c58c04994494"
      },
      "execution_count": 66,
      "outputs": [
        {
          "output_type": "stream",
          "name": "stdout",
          "text": [
            "Epoch 0, minibatch 0: train acc = 0.6875, train loss = 0.01896558329463005\n",
            "Epoch 0, minibatch 10: train acc = 0.5426136363636364, train loss = 0.041758561676198784\n",
            "Epoch 0, minibatch 20: train acc = 0.5773809523809523, train loss = 0.03541315169561477\n",
            "Epoch 0, minibatch 30: train acc = 0.6169354838709677, train loss = 0.030378872348416235\n",
            "Epoch 0 done, validation acc = 0.7733333333333333, validation loss = 0.01676382064819336\n",
            "Epoch 1, minibatch 0: train acc = 0.96875, train loss = 0.006190949585288763\n",
            "Epoch 1, minibatch 10: train acc = 0.7130681818181818, train loss = 0.017914522777904163\n",
            "Epoch 1, minibatch 20: train acc = 0.7142857142857143, train loss = 0.01843323168300447\n",
            "Epoch 1, minibatch 30: train acc = 0.7278225806451613, train loss = 0.017456593052033457\n",
            "Epoch 1 done, validation acc = 0.7766666666666666, validation loss = 0.01711645762125651\n",
            "Epoch 2, minibatch 0: train acc = 0.96875, train loss = 0.005844030529260635\n",
            "Epoch 2, minibatch 10: train acc = 0.7471590909090909, train loss = 0.016172173348340122\n",
            "Epoch 2, minibatch 20: train acc = 0.7455357142857143, train loss = 0.01663400445665632\n",
            "Epoch 2, minibatch 30: train acc = 0.7550403225806451, train loss = 0.016053121897482103\n",
            "Epoch 2 done, validation acc = 0.78, validation loss = 0.017463016510009765\n",
            "Epoch 3, minibatch 0: train acc = 0.9375, train loss = 0.005878149531781673\n",
            "Epoch 3, minibatch 10: train acc = 0.7585227272727273, train loss = 0.015089652755043724\n",
            "Epoch 3, minibatch 20: train acc = 0.7708333333333334, train loss = 0.015396407672337123\n",
            "Epoch 3, minibatch 30: train acc = 0.7782258064516129, train loss = 0.014996277709161081\n",
            "Epoch 3 done, validation acc = 0.76, validation loss = 0.017939937909444172\n",
            "Epoch 4, minibatch 0: train acc = 0.9375, train loss = 0.006034393794834614\n",
            "Epoch 4, minibatch 10: train acc = 0.7556818181818182, train loss = 0.014928676865317604\n",
            "Epoch 4, minibatch 20: train acc = 0.7723214285714286, train loss = 0.014993075813565935\n",
            "Epoch 4, minibatch 30: train acc = 0.7792338709677419, train loss = 0.014561290702512187\n",
            "Epoch 4 done, validation acc = 0.76, validation loss = 0.018433218002319337\n",
            "Epoch 5, minibatch 0: train acc = 0.9375, train loss = 0.006124560721218586\n",
            "Epoch 5, minibatch 10: train acc = 0.7698863636363636, train loss = 0.01442413167520003\n",
            "Epoch 5, minibatch 20: train acc = 0.7797619047619048, train loss = 0.01441098962511335\n",
            "Epoch 5, minibatch 30: train acc = 0.7872983870967742, train loss = 0.01400064556829391\n",
            "Epoch 5 done, validation acc = 0.7533333333333333, validation loss = 0.01888232707977295\n",
            "Epoch 6, minibatch 0: train acc = 0.9375, train loss = 0.006106358952820301\n",
            "Epoch 6, minibatch 10: train acc = 0.78125, train loss = 0.013949284499341791\n",
            "Epoch 6, minibatch 20: train acc = 0.7916666666666666, train loss = 0.0138792580082303\n",
            "Epoch 6, minibatch 30: train acc = 0.7983870967741935, train loss = 0.013491383483332972\n",
            "Epoch 6 done, validation acc = 0.7533333333333333, validation loss = 0.019310153325398764\n",
            "Epoch 7, minibatch 0: train acc = 0.90625, train loss = 0.00607537804171443\n",
            "Epoch 7, minibatch 10: train acc = 0.7869318181818182, train loss = 0.013555532152002508\n",
            "Epoch 7, minibatch 20: train acc = 0.7991071428571429, train loss = 0.013435681660970053\n",
            "Epoch 7, minibatch 30: train acc = 0.8034274193548387, train loss = 0.013061532089787145\n",
            "Epoch 7 done, validation acc = 0.7466666666666667, validation loss = 0.019723833401997883\n",
            "Epoch 8, minibatch 0: train acc = 0.90625, train loss = 0.006040650885552168\n",
            "Epoch 8, minibatch 10: train acc = 0.7926136363636364, train loss = 0.013210161165757612\n",
            "Epoch 8, minibatch 20: train acc = 0.8110119047619048, train loss = 0.013052327292306083\n",
            "Epoch 8, minibatch 30: train acc = 0.811491935483871, train loss = 0.012687696564582086\n",
            "Epoch 8 done, validation acc = 0.7533333333333333, validation loss = 0.020122305552164713\n",
            "Epoch 9, minibatch 0: train acc = 0.9375, train loss = 0.005999347660690546\n",
            "Epoch 9, minibatch 10: train acc = 0.7982954545454546, train loss = 0.012899270111864264\n",
            "Epoch 9, minibatch 20: train acc = 0.8125, train loss = 0.012712170680363974\n",
            "Epoch 9, minibatch 30: train acc = 0.8145161290322581, train loss = 0.0123547536711539\n",
            "Epoch 9 done, validation acc = 0.7566666666666667, validation loss = 0.020506661732991538\n"
          ]
        }
      ]
    },
    {
      "cell_type": "code",
      "source": [
        "from datetime import datetime\n",
        "\n",
        "now = datetime.now()\n",
        "\n",
        "current_time = now.strftime(\"%H:%M:%S\")"
      ],
      "metadata": {
        "id": "eAuetHogtz89"
      },
      "execution_count": 56,
      "outputs": []
    },
    {
      "cell_type": "code",
      "source": [
        "torch.save(\n",
        "    resnet,\n",
        "    f'/content/drive/Shareddrives/Melamine/models/{current_time}-cats_dogs.pth'\n",
        ")"
      ],
      "metadata": {
        "id": "ZdRkEOe3pB11"
      },
      "execution_count": 57,
      "outputs": []
    },
    {
      "cell_type": "markdown",
      "source": [
        "It is important that you freeze parameters first and perform several epochs of training in order to stabilize weights in the classification layer. If you immediately start training end-to-end network with unfrozen parameters, large errors are likely to destroy the pre-trained weights in the convolutional layers."
      ],
      "metadata": {
        "id": "wj22sts1jIgA"
      }
    },
    {
      "cell_type": "code",
      "source": [
        "for x in resnet.parameters():\n",
        "    x.requires_grad = True"
      ],
      "metadata": {
        "id": "Kx8i1VtIs88V"
      },
      "execution_count": 67,
      "outputs": []
    },
    {
      "cell_type": "code",
      "source": [
        "train_long(\n",
        "    resnet,\n",
        "    train_loader,\n",
        "    test_loader,\n",
        "    loss_fn=torch.nn.CrossEntropyLoss(),\n",
        "    epochs=2,\n",
        "    print_freq=10,\n",
        "    lr=0.0001\n",
        ")"
      ],
      "metadata": {
        "colab": {
          "base_uri": "https://localhost:8080/"
        },
        "id": "MZjf1KqItZ-y",
        "outputId": "097a5e54-26fa-41a8-b9ca-38575d0fa236"
      },
      "execution_count": 74,
      "outputs": [
        {
          "output_type": "stream",
          "name": "stdout",
          "text": [
            "Epoch 0, minibatch 0: train acc = 1.0, train loss = 8.31555462355027e-06\n",
            "Epoch 0, minibatch 10: train acc = 0.9943181818181818, train loss = 0.0005016485652463002\n",
            "Epoch 0, minibatch 20: train acc = 0.9910714285714286, train loss = 0.0010066371233690354\n",
            "Epoch 0, minibatch 30: train acc = 0.9818548387096774, train loss = 0.0018406133017232341\n",
            "Epoch 0 done, validation acc = 0.7833333333333333, validation loss = 0.06157850901285807\n",
            "Epoch 1, minibatch 0: train acc = 1.0, train loss = 0.0002495728840585798\n",
            "Epoch 1, minibatch 10: train acc = 0.9886363636363636, train loss = 0.00186877003447576\n",
            "Epoch 1, minibatch 20: train acc = 0.9880952380952381, train loss = 0.0021505231658617654\n",
            "Epoch 1, minibatch 30: train acc = 0.9828629032258065, train loss = 0.0021956755268958306\n",
            "Epoch 1 done, validation acc = 0.7933333333333333, validation loss = 0.05234949747721354\n"
          ]
        }
      ]
    },
    {
      "cell_type": "code",
      "source": [
        "torch.save(\n",
        "    resnet,\n",
        "    f'/content/drive/Shareddrives/Melamine/models/acc-79-{current_time}-cats_dogs.pth'\n",
        ")"
      ],
      "metadata": {
        "id": "hgWbCdc9xm_k"
      },
      "execution_count": 75,
      "outputs": []
    },
    {
      "cell_type": "markdown",
      "source": [
        "## VGG model"
      ],
      "metadata": {
        "id": "Mp281X59yqkk"
      }
    },
    {
      "cell_type": "code",
      "source": [
        "vgg = torchvision.models.vgg16(pretrained=True)"
      ],
      "metadata": {
        "colab": {
          "base_uri": "https://localhost:8080/"
        },
        "id": "F30QQ96rysN_",
        "outputId": "88ba48a1-8c7a-4b24-f331-9a927cc003ae"
      },
      "execution_count": 82,
      "outputs": [
        {
          "output_type": "stream",
          "name": "stderr",
          "text": [
            "/usr/local/lib/python3.7/dist-packages/torchvision/models/_utils.py:209: UserWarning: The parameter 'pretrained' is deprecated since 0.13 and will be removed in 0.15, please use 'weights' instead.\n",
            "  f\"The parameter '{pretrained_param}' is deprecated since 0.13 and will be removed in 0.15, \"\n",
            "/usr/local/lib/python3.7/dist-packages/torchvision/models/_utils.py:223: UserWarning: Arguments other than a weight enum or `None` for 'weights' are deprecated since 0.13 and will be removed in 0.15. The current behavior is equivalent to passing `weights=VGG16_Weights.IMAGENET1K_V1`. You can also use `weights=VGG16_Weights.DEFAULT` to get the most up-to-date weights.\n",
            "  warnings.warn(msg)\n"
          ]
        }
      ]
    },
    {
      "cell_type": "code",
      "source": [
        "vgg.to(device)"
      ],
      "metadata": {
        "id": "WwypRFbtzSkx"
      },
      "execution_count": null,
      "outputs": []
    },
    {
      "cell_type": "code",
      "source": [
        "vgg.classifier = torch.nn.Linear(\n",
        "    25088,\n",
        "    2\n",
        ").to(device)\n",
        "\n",
        "for x in vgg.features.parameters():\n",
        "    x.requires_grad = False"
      ],
      "metadata": {
        "id": "bm5MqBgmyy3-"
      },
      "execution_count": 84,
      "outputs": []
    },
    {
      "cell_type": "code",
      "source": [
        "train_long(\n",
        "    vgg,\n",
        "    train_loader,\n",
        "    test_loader,\n",
        "    loss_fn=torch.nn.CrossEntropyLoss(),\n",
        "    epochs=2,\n",
        "    print_freq=10\n",
        ")"
      ],
      "metadata": {
        "colab": {
          "base_uri": "https://localhost:8080/"
        },
        "id": "MVeDUxNfy9HM",
        "outputId": "6e4b0535-d21e-4538-a6b7-49cb3598874b"
      },
      "execution_count": 85,
      "outputs": [
        {
          "output_type": "stream",
          "name": "stdout",
          "text": [
            "Epoch 0, minibatch 0: train acc = 0.5625, train loss = 0.021149056032299995\n",
            "Epoch 0, minibatch 10: train acc = 0.5823863636363636, train loss = 0.19656729698181152\n",
            "Epoch 0, minibatch 20: train acc = 0.6279761904761905, train loss = 0.18102882021949404\n",
            "Epoch 0, minibatch 30: train acc = 0.6421370967741935, train loss = 0.18786984105263987\n",
            "Epoch 0 done, validation acc = 0.7266666666666667, validation loss = 0.14852938334147137\n",
            "Epoch 1, minibatch 0: train acc = 1.0, train loss = 0.0\n",
            "Epoch 1, minibatch 10: train acc = 0.8693181818181818, train loss = 0.07132069631056352\n",
            "Epoch 1, minibatch 20: train acc = 0.8333333333333334, train loss = 0.0821638788495745\n",
            "Epoch 1, minibatch 30: train acc = 0.8467741935483871, train loss = 0.06861950505164362\n",
            "Epoch 1 done, validation acc = 0.75, validation loss = 0.18206576029459634\n"
          ]
        }
      ]
    },
    {
      "cell_type": "code",
      "source": [
        "for x in vgg.features.parameters():\n",
        "    x.requires_grad = True"
      ],
      "metadata": {
        "id": "K5ozkJ_E0W9T"
      },
      "execution_count": 87,
      "outputs": []
    },
    {
      "cell_type": "code",
      "source": [
        "train_long(\n",
        "    vgg,\n",
        "    train_loader,\n",
        "    test_loader,\n",
        "    loss_fn=torch.nn.CrossEntropyLoss(),\n",
        "    epochs=10,\n",
        "    print_freq=10,\n",
        "    lr=0.0001\n",
        ")"
      ],
      "metadata": {
        "id": "u4OFK51K0g81"
      },
      "execution_count": null,
      "outputs": []
    },
    {
      "cell_type": "code",
      "source": [
        "torch.save(\n",
        "    vgg,\n",
        "    f'/content/drive/Shareddrives/Melamine/models/vgg-acc-71-{current_time}-cats_dogs.pth'\n",
        ")"
      ],
      "metadata": {
        "id": "hKJLPuirzBwT"
      },
      "execution_count": 98,
      "outputs": []
    },
    {
      "cell_type": "code",
      "source": [
        "\n",
        "from sklearn.metrics import confusion_matrix"
      ],
      "metadata": {
        "id": "yRwCQ6WM8-ZM"
      },
      "execution_count": 99,
      "outputs": []
    },
    {
      "cell_type": "code",
      "source": [
        "arr = confusion_matrix(y_test.view(-1).detach().cpu().numpy(), predicted.view(-1).detach().cpu().numpy())\n",
        "class_names = ['mel', 'nev']\n",
        "df_cm = pd.DataFrame(arr, class_names, class_names)\n",
        "plt.figure(figsize = (9,6))\n",
        "sns.heatmap(df_cm, annot=True, fmt=\"d\", cmap='BuGn')\n",
        "plt.xlabel(\"prediction\")\n",
        "plt.ylabel(\"label (ground truth)\")\n",
        "plt.show()"
      ],
      "metadata": {
        "id": "8Z0-VDAb8yDp"
      },
      "execution_count": null,
      "outputs": []
    },
    {
      "cell_type": "markdown",
      "source": [
        "# Model Performance"
      ],
      "metadata": {
        "id": "ChTVG_dA9U4p"
      }
    },
    {
      "cell_type": "code",
      "source": [
        "import pandas as pd\n",
        "import seaborn as sns"
      ],
      "metadata": {
        "id": "xA5ZVSHxAwqQ"
      },
      "execution_count": 110,
      "outputs": []
    },
    {
      "cell_type": "code",
      "source": [
        "def check_perf(net, dataloader,loss_fn=nn.NLLLoss()):\n",
        "    net.eval()\n",
        "    count,acc,loss = 0,0,0\n",
        "    list_preds = []\n",
        "    list_y = []\n",
        "    with torch.no_grad():\n",
        "        for features,labels in dataloader:\n",
        "            lbls = labels.to(device)\n",
        "            out = net(features.to(device))\n",
        "            loss += loss_fn(out,lbls) \n",
        "            pred = torch.max(out,1)[1]\n",
        "            acc += (pred==lbls).sum()\n",
        "            count += len(labels)\n",
        "            list_preds.append(pred)\n",
        "            list_y.append(labels)\n",
        "    net.train()\n",
        "    all_preds = list_preds[0]\n",
        "    all_y = list_y[0]\n",
        "    for i in range(1, len(list_preds)):\n",
        "        all_preds = torch.cat((all_preds, list_preds[i]))\n",
        "        all_y = torch.cat((all_y, list_y[i]))\n",
        "        print(all_preds.shape)\n",
        "        print(len(dataloader))\n",
        "    arr = confusion_matrix(all_y.view(-1).detach().cpu().numpy(), all_preds.view(-1).detach().cpu().numpy())\n",
        "    class_names = ['mel', 'nev']\n",
        "    df_cm = pd.DataFrame(arr, class_names, class_names)\n",
        "    plt.figure(figsize = (9,6))\n",
        "    sns.heatmap(df_cm, annot=True, fmt=\"d\", cmap='BuGn')\n",
        "    plt.xlabel(\"prediction\")\n",
        "    plt.ylabel(\"label (ground truth)\")\n",
        "    plt.show()\n"
      ],
      "metadata": {
        "id": "dIULkZmN9XiX"
      },
      "execution_count": 111,
      "outputs": []
    },
    {
      "cell_type": "code",
      "source": [
        "best_model = torch.load(\"/content/drive/Shareddrives/Melamine/models/acc-82-08:17:52-cats_dogs.pth\")"
      ],
      "metadata": {
        "id": "jk7icgLA-Om6"
      },
      "execution_count": 101,
      "outputs": []
    },
    {
      "cell_type": "code",
      "source": [
        "check_perf(best_model, test_loader)"
      ],
      "metadata": {
        "colab": {
          "base_uri": "https://localhost:8080/",
          "height": 702
        },
        "id": "z4_7gYt4-FMi",
        "outputId": "a86b6503-d200-4652-d9be-ff40213e9269"
      },
      "execution_count": 112,
      "outputs": [
        {
          "output_type": "stream",
          "name": "stdout",
          "text": [
            "torch.Size([64])\n",
            "10\n",
            "torch.Size([96])\n",
            "10\n",
            "torch.Size([128])\n",
            "10\n",
            "torch.Size([160])\n",
            "10\n",
            "torch.Size([192])\n",
            "10\n",
            "torch.Size([224])\n",
            "10\n",
            "torch.Size([256])\n",
            "10\n",
            "torch.Size([288])\n",
            "10\n",
            "torch.Size([300])\n",
            "10\n"
          ]
        },
        {
          "output_type": "display_data",
          "data": {
            "text/plain": [
              "<Figure size 648x432 with 2 Axes>"
            ],
            "image/png": "[encoded data removed]"
          },
          "metadata": {
            "needs_background": "light"
          }
        }
      ]
    },
    {
      "cell_type": "markdown",
      "source": [
        "#**To do**\n",
        "*   F1-Measure\n",
        "*   Draw graphs\n",
        "*   Train with segmented images\n",
        "\n"
      ],
      "metadata": {
        "id": "7EeNh782yORZ"
      }
    },
    {
      "cell_type": "markdown",
      "source": [
        "#Mobile Net!!!"
      ],
      "metadata": {
        "id": "Puitkoqfj0jB"
      }
    },
    {
      "cell_type": "code",
      "source": [
        "from pytorchcv import train, display_dataset, train_long, load_cats_dogs_dataset, validate, common_transform"
      ],
      "metadata": {
        "id": "3fXcWFyCj6pY"
      },
      "execution_count": null,
      "outputs": []
    },
    {
      "cell_type": "code",
      "source": [
        "if not os.path.exists('data/kagglecatsanddogs_5340.zip'):\n",
        "    !wget -P data -q https://download.microsoft.com/download/3/E/1/3E1C3F21-ECDB-4869-8368-6DEBA77B919F/kagglecatsanddogs_5340.zip\n",
        "\n",
        "dataset, train_loader, test_loader = load_cats_dogs_dataset()"
      ],
      "metadata": {
        "colab": {
          "base_uri": "https://localhost:8080/"
        },
        "id": "0IFMuPzLiuJV",
        "outputId": "086e5429-ff10-422a-db32-18794abea5da"
      },
      "execution_count": null,
      "outputs": [
        {
          "output_type": "stream",
          "name": "stderr",
          "text": [
            "/usr/local/lib/python3.7/dist-packages/PIL/TiffImagePlugin.py:770: UserWarning: Possibly corrupt EXIF data.  Expecting to read 32 bytes but only got 0. Skipping tag 270\n",
            "  \" Skipping tag %s\" % (size, len(data), tag)\n",
            "/usr/local/lib/python3.7/dist-packages/PIL/TiffImagePlugin.py:770: UserWarning: Possibly corrupt EXIF data.  Expecting to read 5 bytes but only got 0. Skipping tag 271\n",
            "  \" Skipping tag %s\" % (size, len(data), tag)\n",
            "/usr/local/lib/python3.7/dist-packages/PIL/TiffImagePlugin.py:770: UserWarning: Possibly corrupt EXIF data.  Expecting to read 8 bytes but only got 0. Skipping tag 272\n",
            "  \" Skipping tag %s\" % (size, len(data), tag)\n",
            "/usr/local/lib/python3.7/dist-packages/PIL/TiffImagePlugin.py:770: UserWarning: Possibly corrupt EXIF data.  Expecting to read 8 bytes but only got 0. Skipping tag 282\n",
            "  \" Skipping tag %s\" % (size, len(data), tag)\n",
            "/usr/local/lib/python3.7/dist-packages/PIL/TiffImagePlugin.py:770: UserWarning: Possibly corrupt EXIF data.  Expecting to read 8 bytes but only got 0. Skipping tag 283\n",
            "  \" Skipping tag %s\" % (size, len(data), tag)\n",
            "/usr/local/lib/python3.7/dist-packages/PIL/TiffImagePlugin.py:770: UserWarning: Possibly corrupt EXIF data.  Expecting to read 20 bytes but only got 0. Skipping tag 306\n",
            "  \" Skipping tag %s\" % (size, len(data), tag)\n",
            "/usr/local/lib/python3.7/dist-packages/PIL/TiffImagePlugin.py:770: UserWarning: Possibly corrupt EXIF data.  Expecting to read 48 bytes but only got 0. Skipping tag 532\n",
            "  \" Skipping tag %s\" % (size, len(data), tag)\n",
            "/usr/local/lib/python3.7/dist-packages/PIL/TiffImagePlugin.py:788: UserWarning: Corrupt EXIF data.  Expecting to read 2 bytes but only got 0. \n",
            "  warnings.warn(str(msg))\n"
          ]
        }
      ]
    },
    {
      "cell_type": "code",
      "source": [
        "next(iter(train_loader))"
      ],
      "metadata": {
        "id": "HukMC4Oij3LT"
      },
      "execution_count": null,
      "outputs": []
    },
    {
      "cell_type": "code",
      "source": [
        "model = torch.hub.load(\n",
        "    'pytorch/vision:v0.6.0',\n",
        "    'mobilenet_v2',\n",
        "    pretrained=True\n",
        ")\n",
        "model.eval()"
      ],
      "metadata": {
        "id": "8bSNkYqCkF2b"
      },
      "execution_count": null,
      "outputs": []
    },
    {
      "cell_type": "code",
      "source": [
        "print(model)"
      ],
      "metadata": {
        "colab": {
          "base_uri": "https://localhost:8080/"
        },
        "id": "Tn3QjBCBl31K",
        "outputId": "8a8a7ffd-17d3-47fc-a64d-193e50acccd1"
      },
      "execution_count": null,
      "outputs": [
        {
          "output_type": "stream",
          "name": "stdout",
          "text": [
            "MobileNetV2(\n",
            "  (features): Sequential(\n",
            "    (0): Conv2dNormActivation(\n",
            "      (0): Conv2d(3, 32, kernel_size=(3, 3), stride=(2, 2), padding=(1, 1), bias=False)\n",
            "      (1): BatchNorm2d(32, eps=1e-05, momentum=0.1, affine=True, track_running_stats=True)\n",
            "      (2): ReLU6(inplace=True)\n",
            "    )\n",
            "    (1): InvertedResidual(\n",
            "      (conv): Sequential(\n",
            "        (0): Conv2dNormActivation(\n",
            "          (0): Conv2d(32, 32, kernel_size=(3, 3), stride=(1, 1), padding=(1, 1), groups=32, bias=False)\n",
            "          (1): BatchNorm2d(32, eps=1e-05, momentum=0.1, affine=True, track_running_stats=True)\n",
            "          (2): ReLU6(inplace=True)\n",
            "        )\n",
            "        (1): Conv2d(32, 16, kernel_size=(1, 1), stride=(1, 1), bias=False)\n",
            "        (2): BatchNorm2d(16, eps=1e-05, momentum=0.1, affine=True, track_running_stats=True)\n",
            "      )\n",
            "    )\n",
            "    (2): InvertedResidual(\n",
            "      (conv): Sequential(\n",
            "        (0): Conv2dNormActivation(\n",
            "          (0): Conv2d(16, 96, kernel_size=(1, 1), stride=(1, 1), bias=False)\n",
            "          (1): BatchNorm2d(96, eps=1e-05, momentum=0.1, affine=True, track_running_stats=True)\n",
            "          (2): ReLU6(inplace=True)\n",
            "        )\n",
            "        (1): Conv2dNormActivation(\n",
            "          (0): Conv2d(96, 96, kernel_size=(3, 3), stride=(2, 2), padding=(1, 1), groups=96, bias=False)\n",
            "          (1): BatchNorm2d(96, eps=1e-05, momentum=0.1, affine=True, track_running_stats=True)\n",
            "          (2): ReLU6(inplace=True)\n",
            "        )\n",
            "        (2): Conv2d(96, 24, kernel_size=(1, 1), stride=(1, 1), bias=False)\n",
            "        (3): BatchNorm2d(24, eps=1e-05, momentum=0.1, affine=True, track_running_stats=True)\n",
            "      )\n",
            "    )\n",
            "    (3): InvertedResidual(\n",
            "      (conv): Sequential(\n",
            "        (0): Conv2dNormActivation(\n",
            "          (0): Conv2d(24, 144, kernel_size=(1, 1), stride=(1, 1), bias=False)\n",
            "          (1): BatchNorm2d(144, eps=1e-05, momentum=0.1, affine=True, track_running_stats=True)\n",
            "          (2): ReLU6(inplace=True)\n",
            "        )\n",
            "        (1): Conv2dNormActivation(\n",
            "          (0): Conv2d(144, 144, kernel_size=(3, 3), stride=(1, 1), padding=(1, 1), groups=144, bias=False)\n",
            "          (1): BatchNorm2d(144, eps=1e-05, momentum=0.1, affine=True, track_running_stats=True)\n",
            "          (2): ReLU6(inplace=True)\n",
            "        )\n",
            "        (2): Conv2d(144, 24, kernel_size=(1, 1), stride=(1, 1), bias=False)\n",
            "        (3): BatchNorm2d(24, eps=1e-05, momentum=0.1, affine=True, track_running_stats=True)\n",
            "      )\n",
            "    )\n",
            "    (4): InvertedResidual(\n",
            "      (conv): Sequential(\n",
            "        (0): Conv2dNormActivation(\n",
            "          (0): Conv2d(24, 144, kernel_size=(1, 1), stride=(1, 1), bias=False)\n",
            "          (1): BatchNorm2d(144, eps=1e-05, momentum=0.1, affine=True, track_running_stats=True)\n",
            "          (2): ReLU6(inplace=True)\n",
            "        )\n",
            "        (1): Conv2dNormActivation(\n",
            "          (0): Conv2d(144, 144, kernel_size=(3, 3), stride=(2, 2), padding=(1, 1), groups=144, bias=False)\n",
            "          (1): BatchNorm2d(144, eps=1e-05, momentum=0.1, affine=True, track_running_stats=True)\n",
            "          (2): ReLU6(inplace=True)\n",
            "        )\n",
            "        (2): Conv2d(144, 32, kernel_size=(1, 1), stride=(1, 1), bias=False)\n",
            "        (3): BatchNorm2d(32, eps=1e-05, momentum=0.1, affine=True, track_running_stats=True)\n",
            "      )\n",
            "    )\n",
            "    (5): InvertedResidual(\n",
            "      (conv): Sequential(\n",
            "        (0): Conv2dNormActivation(\n",
            "          (0): Conv2d(32, 192, kernel_size=(1, 1), stride=(1, 1), bias=False)\n",
            "          (1): BatchNorm2d(192, eps=1e-05, momentum=0.1, affine=True, track_running_stats=True)\n",
            "          (2): ReLU6(inplace=True)\n",
            "        )\n",
            "        (1): Conv2dNormActivation(\n",
            "          (0): Conv2d(192, 192, kernel_size=(3, 3), stride=(1, 1), padding=(1, 1), groups=192, bias=False)\n",
            "          (1): BatchNorm2d(192, eps=1e-05, momentum=0.1, affine=True, track_running_stats=True)\n",
            "          (2): ReLU6(inplace=True)\n",
            "        )\n",
            "        (2): Conv2d(192, 32, kernel_size=(1, 1), stride=(1, 1), bias=False)\n",
            "        (3): BatchNorm2d(32, eps=1e-05, momentum=0.1, affine=True, track_running_stats=True)\n",
            "      )\n",
            "    )\n",
            "    (6): InvertedResidual(\n",
            "      (conv): Sequential(\n",
            "        (0): Conv2dNormActivation(\n",
            "          (0): Conv2d(32, 192, kernel_size=(1, 1), stride=(1, 1), bias=False)\n",
            "          (1): BatchNorm2d(192, eps=1e-05, momentum=0.1, affine=True, track_running_stats=True)\n",
            "          (2): ReLU6(inplace=True)\n",
            "        )\n",
            "        (1): Conv2dNormActivation(\n",
            "          (0): Conv2d(192, 192, kernel_size=(3, 3), stride=(1, 1), padding=(1, 1), groups=192, bias=False)\n",
            "          (1): BatchNorm2d(192, eps=1e-05, momentum=0.1, affine=True, track_running_stats=True)\n",
            "          (2): ReLU6(inplace=True)\n",
            "        )\n",
            "        (2): Conv2d(192, 32, kernel_size=(1, 1), stride=(1, 1), bias=False)\n",
            "        (3): BatchNorm2d(32, eps=1e-05, momentum=0.1, affine=True, track_running_stats=True)\n",
            "      )\n",
            "    )\n",
            "    (7): InvertedResidual(\n",
            "      (conv): Sequential(\n",
            "        (0): Conv2dNormActivation(\n",
            "          (0): Conv2d(32, 192, kernel_size=(1, 1), stride=(1, 1), bias=False)\n",
            "          (1): BatchNorm2d(192, eps=1e-05, momentum=0.1, affine=True, track_running_stats=True)\n",
            "          (2): ReLU6(inplace=True)\n",
            "        )\n",
            "        (1): Conv2dNormActivation(\n",
            "          (0): Conv2d(192, 192, kernel_size=(3, 3), stride=(2, 2), padding=(1, 1), groups=192, bias=False)\n",
            "          (1): BatchNorm2d(192, eps=1e-05, momentum=0.1, affine=True, track_running_stats=True)\n",
            "          (2): ReLU6(inplace=True)\n",
            "        )\n",
            "        (2): Conv2d(192, 64, kernel_size=(1, 1), stride=(1, 1), bias=False)\n",
            "        (3): BatchNorm2d(64, eps=1e-05, momentum=0.1, affine=True, track_running_stats=True)\n",
            "      )\n",
            "    )\n",
            "    (8): InvertedResidual(\n",
            "      (conv): Sequential(\n",
            "        (0): Conv2dNormActivation(\n",
            "          (0): Conv2d(64, 384, kernel_size=(1, 1), stride=(1, 1), bias=False)\n",
            "          (1): BatchNorm2d(384, eps=1e-05, momentum=0.1, affine=True, track_running_stats=True)\n",
            "          (2): ReLU6(inplace=True)\n",
            "        )\n",
            "        (1): Conv2dNormActivation(\n",
            "          (0): Conv2d(384, 384, kernel_size=(3, 3), stride=(1, 1), padding=(1, 1), groups=384, bias=False)\n",
            "          (1): BatchNorm2d(384, eps=1e-05, momentum=0.1, affine=True, track_running_stats=True)\n",
            "          (2): ReLU6(inplace=True)\n",
            "        )\n",
            "        (2): Conv2d(384, 64, kernel_size=(1, 1), stride=(1, 1), bias=False)\n",
            "        (3): BatchNorm2d(64, eps=1e-05, momentum=0.1, affine=True, track_running_stats=True)\n",
            "      )\n",
            "    )\n",
            "    (9): InvertedResidual(\n",
            "      (conv): Sequential(\n",
            "        (0): Conv2dNormActivation(\n",
            "          (0): Conv2d(64, 384, kernel_size=(1, 1), stride=(1, 1), bias=False)\n",
            "          (1): BatchNorm2d(384, eps=1e-05, momentum=0.1, affine=True, track_running_stats=True)\n",
            "          (2): ReLU6(inplace=True)\n",
            "        )\n",
            "        (1): Conv2dNormActivation(\n",
            "          (0): Conv2d(384, 384, kernel_size=(3, 3), stride=(1, 1), padding=(1, 1), groups=384, bias=False)\n",
            "          (1): BatchNorm2d(384, eps=1e-05, momentum=0.1, affine=True, track_running_stats=True)\n",
            "          (2): ReLU6(inplace=True)\n",
            "        )\n",
            "        (2): Conv2d(384, 64, kernel_size=(1, 1), stride=(1, 1), bias=False)\n",
            "        (3): BatchNorm2d(64, eps=1e-05, momentum=0.1, affine=True, track_running_stats=True)\n",
            "      )\n",
            "    )\n",
            "    (10): InvertedResidual(\n",
            "      (conv): Sequential(\n",
            "        (0): Conv2dNormActivation(\n",
            "          (0): Conv2d(64, 384, kernel_size=(1, 1), stride=(1, 1), bias=False)\n",
            "          (1): BatchNorm2d(384, eps=1e-05, momentum=0.1, affine=True, track_running_stats=True)\n",
            "          (2): ReLU6(inplace=True)\n",
            "        )\n",
            "        (1): Conv2dNormActivation(\n",
            "          (0): Conv2d(384, 384, kernel_size=(3, 3), stride=(1, 1), padding=(1, 1), groups=384, bias=False)\n",
            "          (1): BatchNorm2d(384, eps=1e-05, momentum=0.1, affine=True, track_running_stats=True)\n",
            "          (2): ReLU6(inplace=True)\n",
            "        )\n",
            "        (2): Conv2d(384, 64, kernel_size=(1, 1), stride=(1, 1), bias=False)\n",
            "        (3): BatchNorm2d(64, eps=1e-05, momentum=0.1, affine=True, track_running_stats=True)\n",
            "      )\n",
            "    )\n",
            "    (11): InvertedResidual(\n",
            "      (conv): Sequential(\n",
            "        (0): Conv2dNormActivation(\n",
            "          (0): Conv2d(64, 384, kernel_size=(1, 1), stride=(1, 1), bias=False)\n",
            "          (1): BatchNorm2d(384, eps=1e-05, momentum=0.1, affine=True, track_running_stats=True)\n",
            "          (2): ReLU6(inplace=True)\n",
            "        )\n",
            "        (1): Conv2dNormActivation(\n",
            "          (0): Conv2d(384, 384, kernel_size=(3, 3), stride=(1, 1), padding=(1, 1), groups=384, bias=False)\n",
            "          (1): BatchNorm2d(384, eps=1e-05, momentum=0.1, affine=True, track_running_stats=True)\n",
            "          (2): ReLU6(inplace=True)\n",
            "        )\n",
            "        (2): Conv2d(384, 96, kernel_size=(1, 1), stride=(1, 1), bias=False)\n",
            "        (3): BatchNorm2d(96, eps=1e-05, momentum=0.1, affine=True, track_running_stats=True)\n",
            "      )\n",
            "    )\n",
            "    (12): InvertedResidual(\n",
            "      (conv): Sequential(\n",
            "        (0): Conv2dNormActivation(\n",
            "          (0): Conv2d(96, 576, kernel_size=(1, 1), stride=(1, 1), bias=False)\n",
            "          (1): BatchNorm2d(576, eps=1e-05, momentum=0.1, affine=True, track_running_stats=True)\n",
            "          (2): ReLU6(inplace=True)\n",
            "        )\n",
            "        (1): Conv2dNormActivation(\n",
            "          (0): Conv2d(576, 576, kernel_size=(3, 3), stride=(1, 1), padding=(1, 1), groups=576, bias=False)\n",
            "          (1): BatchNorm2d(576, eps=1e-05, momentum=0.1, affine=True, track_running_stats=True)\n",
            "          (2): ReLU6(inplace=True)\n",
            "        )\n",
            "        (2): Conv2d(576, 96, kernel_size=(1, 1), stride=(1, 1), bias=False)\n",
            "        (3): BatchNorm2d(96, eps=1e-05, momentum=0.1, affine=True, track_running_stats=True)\n",
            "      )\n",
            "    )\n",
            "    (13): InvertedResidual(\n",
            "      (conv): Sequential(\n",
            "        (0): Conv2dNormActivation(\n",
            "          (0): Conv2d(96, 576, kernel_size=(1, 1), stride=(1, 1), bias=False)\n",
            "          (1): BatchNorm2d(576, eps=1e-05, momentum=0.1, affine=True, track_running_stats=True)\n",
            "          (2): ReLU6(inplace=True)\n",
            "        )\n",
            "        (1): Conv2dNormActivation(\n",
            "          (0): Conv2d(576, 576, kernel_size=(3, 3), stride=(1, 1), padding=(1, 1), groups=576, bias=False)\n",
            "          (1): BatchNorm2d(576, eps=1e-05, momentum=0.1, affine=True, track_running_stats=True)\n",
            "          (2): ReLU6(inplace=True)\n",
            "        )\n",
            "        (2): Conv2d(576, 96, kernel_size=(1, 1), stride=(1, 1), bias=False)\n",
            "        (3): BatchNorm2d(96, eps=1e-05, momentum=0.1, affine=True, track_running_stats=True)\n",
            "      )\n",
            "    )\n",
            "    (14): InvertedResidual(\n",
            "      (conv): Sequential(\n",
            "        (0): Conv2dNormActivation(\n",
            "          (0): Conv2d(96, 576, kernel_size=(1, 1), stride=(1, 1), bias=False)\n",
            "          (1): BatchNorm2d(576, eps=1e-05, momentum=0.1, affine=True, track_running_stats=True)\n",
            "          (2): ReLU6(inplace=True)\n",
            "        )\n",
            "        (1): Conv2dNormActivation(\n",
            "          (0): Conv2d(576, 576, kernel_size=(3, 3), stride=(2, 2), padding=(1, 1), groups=576, bias=False)\n",
            "          (1): BatchNorm2d(576, eps=1e-05, momentum=0.1, affine=True, track_running_stats=True)\n",
            "          (2): ReLU6(inplace=True)\n",
            "        )\n",
            "        (2): Conv2d(576, 160, kernel_size=(1, 1), stride=(1, 1), bias=False)\n",
            "        (3): BatchNorm2d(160, eps=1e-05, momentum=0.1, affine=True, track_running_stats=True)\n",
            "      )\n",
            "    )\n",
            "    (15): InvertedResidual(\n",
            "      (conv): Sequential(\n",
            "        (0): Conv2dNormActivation(\n",
            "          (0): Conv2d(160, 960, kernel_size=(1, 1), stride=(1, 1), bias=False)\n",
            "          (1): BatchNorm2d(960, eps=1e-05, momentum=0.1, affine=True, track_running_stats=True)\n",
            "          (2): ReLU6(inplace=True)\n",
            "        )\n",
            "        (1): Conv2dNormActivation(\n",
            "          (0): Conv2d(960, 960, kernel_size=(3, 3), stride=(1, 1), padding=(1, 1), groups=960, bias=False)\n",
            "          (1): BatchNorm2d(960, eps=1e-05, momentum=0.1, affine=True, track_running_stats=True)\n",
            "          (2): ReLU6(inplace=True)\n",
            "        )\n",
            "        (2): Conv2d(960, 160, kernel_size=(1, 1), stride=(1, 1), bias=False)\n",
            "        (3): BatchNorm2d(160, eps=1e-05, momentum=0.1, affine=True, track_running_stats=True)\n",
            "      )\n",
            "    )\n",
            "    (16): InvertedResidual(\n",
            "      (conv): Sequential(\n",
            "        (0): Conv2dNormActivation(\n",
            "          (0): Conv2d(160, 960, kernel_size=(1, 1), stride=(1, 1), bias=False)\n",
            "          (1): BatchNorm2d(960, eps=1e-05, momentum=0.1, affine=True, track_running_stats=True)\n",
            "          (2): ReLU6(inplace=True)\n",
            "        )\n",
            "        (1): Conv2dNormActivation(\n",
            "          (0): Conv2d(960, 960, kernel_size=(3, 3), stride=(1, 1), padding=(1, 1), groups=960, bias=False)\n",
            "          (1): BatchNorm2d(960, eps=1e-05, momentum=0.1, affine=True, track_running_stats=True)\n",
            "          (2): ReLU6(inplace=True)\n",
            "        )\n",
            "        (2): Conv2d(960, 160, kernel_size=(1, 1), stride=(1, 1), bias=False)\n",
            "        (3): BatchNorm2d(160, eps=1e-05, momentum=0.1, affine=True, track_running_stats=True)\n",
            "      )\n",
            "    )\n",
            "    (17): InvertedResidual(\n",
            "      (conv): Sequential(\n",
            "        (0): Conv2dNormActivation(\n",
            "          (0): Conv2d(160, 960, kernel_size=(1, 1), stride=(1, 1), bias=False)\n",
            "          (1): BatchNorm2d(960, eps=1e-05, momentum=0.1, affine=True, track_running_stats=True)\n",
            "          (2): ReLU6(inplace=True)\n",
            "        )\n",
            "        (1): Conv2dNormActivation(\n",
            "          (0): Conv2d(960, 960, kernel_size=(3, 3), stride=(1, 1), padding=(1, 1), groups=960, bias=False)\n",
            "          (1): BatchNorm2d(960, eps=1e-05, momentum=0.1, affine=True, track_running_stats=True)\n",
            "          (2): ReLU6(inplace=True)\n",
            "        )\n",
            "        (2): Conv2d(960, 320, kernel_size=(1, 1), stride=(1, 1), bias=False)\n",
            "        (3): BatchNorm2d(320, eps=1e-05, momentum=0.1, affine=True, track_running_stats=True)\n",
            "      )\n",
            "    )\n",
            "    (18): Conv2dNormActivation(\n",
            "      (0): Conv2d(320, 1280, kernel_size=(1, 1), stride=(1, 1), bias=False)\n",
            "      (1): BatchNorm2d(1280, eps=1e-05, momentum=0.1, affine=True, track_running_stats=True)\n",
            "      (2): ReLU6(inplace=True)\n",
            "    )\n",
            "  )\n",
            "  (classifier): Sequential(\n",
            "    (0): Dropout(p=0.2, inplace=False)\n",
            "    (1): Linear(in_features=1280, out_features=1000, bias=True)\n",
            "  )\n",
            ")\n"
          ]
        }
      ]
    },
    {
      "cell_type": "code",
      "source": [
        "sample_image = dataset[0][0].unsqueeze(0)\n",
        "res = model(sample_image)\n",
        "print(res[0].argmax())"
      ],
      "metadata": {
        "colab": {
          "base_uri": "https://localhost:8080/"
        },
        "id": "7S2Olg7NlAlL",
        "outputId": "ce2e9244-405c-449f-8d9b-b196d6b4b578"
      },
      "execution_count": null,
      "outputs": [
        {
          "output_type": "stream",
          "name": "stdout",
          "text": [
            "tensor(281)\n"
          ]
        }
      ]
    },
    {
      "cell_type": "code",
      "source": [
        "# freeze params\n",
        "for x in model.parameters():\n",
        "    x.requires_grad = False"
      ],
      "metadata": {
        "id": "U6GCy7a0lWTH"
      },
      "execution_count": null,
      "outputs": []
    },
    {
      "cell_type": "code",
      "source": [
        "device = 'cuda' if torch.cuda.is_available() else 'cpu'\n",
        "model.classifier = nn.Linear(1280, 2)\n",
        "model = model.to(device)\n",
        "summary(\n",
        "    model,\n",
        "    input_size=(1, 3, 244, 244)\n",
        ")"
      ],
      "metadata": {
        "colab": {
          "base_uri": "https://localhost:8080/"
        },
        "id": "Ag83R1VKlp6C",
        "outputId": "e3eec163-abad-4358-e749-fa9aed7ddf8a"
      },
      "execution_count": null,
      "outputs": [
        {
          "output_type": "execute_result",
          "data": {
            "text/plain": [
              "====================================================================================================\n",
              "Layer (type:depth-idx)                             Output Shape              Param #\n",
              "====================================================================================================\n",
              "MobileNetV2                                        [1, 2]                    --\n",
              "├─Sequential: 1-1                                  [1, 1280, 8, 8]           --\n",
              "│    └─Conv2dNormActivation: 2-1                   [1, 32, 122, 122]         --\n",
              "│    │    └─Conv2d: 3-1                            [1, 32, 122, 122]         (864)\n",
              "│    │    └─BatchNorm2d: 3-2                       [1, 32, 122, 122]         (64)\n",
              "│    │    └─ReLU6: 3-3                             [1, 32, 122, 122]         --\n",
              "│    └─InvertedResidual: 2-2                       [1, 16, 122, 122]         --\n",
              "│    │    └─Sequential: 3-4                        [1, 16, 122, 122]         (896)\n",
              "│    └─InvertedResidual: 2-3                       [1, 24, 61, 61]           --\n",
              "│    │    └─Sequential: 3-5                        [1, 24, 61, 61]           (5,136)\n",
              "│    └─InvertedResidual: 2-4                       [1, 24, 61, 61]           --\n",
              "│    │    └─Sequential: 3-6                        [1, 24, 61, 61]           (8,832)\n",
              "│    └─InvertedResidual: 2-5                       [1, 32, 31, 31]           --\n",
              "│    │    └─Sequential: 3-7                        [1, 32, 31, 31]           (10,000)\n",
              "│    └─InvertedResidual: 2-6                       [1, 32, 31, 31]           --\n",
              "│    │    └─Sequential: 3-8                        [1, 32, 31, 31]           (14,848)\n",
              "│    └─InvertedResidual: 2-7                       [1, 32, 31, 31]           --\n",
              "│    │    └─Sequential: 3-9                        [1, 32, 31, 31]           (14,848)\n",
              "│    └─InvertedResidual: 2-8                       [1, 64, 16, 16]           --\n",
              "│    │    └─Sequential: 3-10                       [1, 64, 16, 16]           (21,056)\n",
              "│    └─InvertedResidual: 2-9                       [1, 64, 16, 16]           --\n",
              "│    │    └─Sequential: 3-11                       [1, 64, 16, 16]           (54,272)\n",
              "│    └─InvertedResidual: 2-10                      [1, 64, 16, 16]           --\n",
              "│    │    └─Sequential: 3-12                       [1, 64, 16, 16]           (54,272)\n",
              "│    └─InvertedResidual: 2-11                      [1, 64, 16, 16]           --\n",
              "│    │    └─Sequential: 3-13                       [1, 64, 16, 16]           (54,272)\n",
              "│    └─InvertedResidual: 2-12                      [1, 96, 16, 16]           --\n",
              "│    │    └─Sequential: 3-14                       [1, 96, 16, 16]           (66,624)\n",
              "│    └─InvertedResidual: 2-13                      [1, 96, 16, 16]           --\n",
              "│    │    └─Sequential: 3-15                       [1, 96, 16, 16]           (118,272)\n",
              "│    └─InvertedResidual: 2-14                      [1, 96, 16, 16]           --\n",
              "│    │    └─Sequential: 3-16                       [1, 96, 16, 16]           (118,272)\n",
              "│    └─InvertedResidual: 2-15                      [1, 160, 8, 8]            --\n",
              "│    │    └─Sequential: 3-17                       [1, 160, 8, 8]            (155,264)\n",
              "│    └─InvertedResidual: 2-16                      [1, 160, 8, 8]            --\n",
              "│    │    └─Sequential: 3-18                       [1, 160, 8, 8]            (320,000)\n",
              "│    └─InvertedResidual: 2-17                      [1, 160, 8, 8]            --\n",
              "│    │    └─Sequential: 3-19                       [1, 160, 8, 8]            (320,000)\n",
              "│    └─InvertedResidual: 2-18                      [1, 320, 8, 8]            --\n",
              "│    │    └─Sequential: 3-20                       [1, 320, 8, 8]            (473,920)\n",
              "│    └─Conv2dNormActivation: 2-19                  [1, 1280, 8, 8]           --\n",
              "│    │    └─Conv2d: 3-21                           [1, 1280, 8, 8]           (409,600)\n",
              "│    │    └─BatchNorm2d: 3-22                      [1, 1280, 8, 8]           (2,560)\n",
              "│    │    └─ReLU6: 3-23                            [1, 1280, 8, 8]           --\n",
              "├─Linear: 1-2                                      [1, 2]                    2,562\n",
              "====================================================================================================\n",
              "Total params: 2,226,434\n",
              "Trainable params: 2,562\n",
              "Non-trainable params: 2,223,872\n",
              "Total mult-adds (M): 378.33\n",
              "====================================================================================================\n",
              "Input size (MB): 0.71\n",
              "Forward/backward pass size (MB): 130.67\n",
              "Params size (MB): 8.91\n",
              "Estimated Total Size (MB): 140.29\n",
              "===================================================================================================="
            ]
          },
          "metadata": {},
          "execution_count": 42
        }
      ]
    },
    {
      "cell_type": "code",
      "source": [
        "train_long(\n",
        "    model,\n",
        "    train_loader,\n",
        "    test_loader,\n",
        "    loss_fn=torch.nn.CrossEntropyLoss(),\n",
        "    epochs=1,\n",
        "    print_freq=90\n",
        ")"
      ],
      "metadata": {
        "colab": {
          "base_uri": "https://localhost:8080/"
        },
        "id": "4rOz4P05mQJt",
        "outputId": "2e4d5c2c-4764-492a-c36e-3d39ce46fd66"
      },
      "execution_count": null,
      "outputs": [
        {
          "output_type": "stream",
          "name": "stdout",
          "text": [
            "Epoch 0, minibatch 0: train acc = 0.4375, train loss = 0.024161575362086296\n",
            "Epoch 0, minibatch 90: train acc = 0.9237637362637363, train loss = 0.007432236776247129\n",
            "Epoch 0, minibatch 180: train acc = 0.93646408839779, train loss = 0.00614617015775396\n",
            "Epoch 0, minibatch 270: train acc = 0.9447647601476015, train loss = 0.005352903116233235\n"
          ]
        },
        {
          "output_type": "stream",
          "name": "stderr",
          "text": [
            "/usr/local/lib/python3.7/dist-packages/PIL/TiffImagePlugin.py:770: UserWarning: Possibly corrupt EXIF data.  Expecting to read 32 bytes but only got 0. Skipping tag 270\n",
            "  \" Skipping tag %s\" % (size, len(data), tag)\n",
            "/usr/local/lib/python3.7/dist-packages/PIL/TiffImagePlugin.py:770: UserWarning: Possibly corrupt EXIF data.  Expecting to read 5 bytes but only got 0. Skipping tag 271\n",
            "  \" Skipping tag %s\" % (size, len(data), tag)\n",
            "/usr/local/lib/python3.7/dist-packages/PIL/TiffImagePlugin.py:770: UserWarning: Possibly corrupt EXIF data.  Expecting to read 8 bytes but only got 0. Skipping tag 272\n",
            "  \" Skipping tag %s\" % (size, len(data), tag)\n",
            "/usr/local/lib/python3.7/dist-packages/PIL/TiffImagePlugin.py:770: UserWarning: Possibly corrupt EXIF data.  Expecting to read 8 bytes but only got 0. Skipping tag 282\n",
            "  \" Skipping tag %s\" % (size, len(data), tag)\n",
            "/usr/local/lib/python3.7/dist-packages/PIL/TiffImagePlugin.py:770: UserWarning: Possibly corrupt EXIF data.  Expecting to read 8 bytes but only got 0. Skipping tag 283\n",
            "  \" Skipping tag %s\" % (size, len(data), tag)\n",
            "/usr/local/lib/python3.7/dist-packages/PIL/TiffImagePlugin.py:770: UserWarning: Possibly corrupt EXIF data.  Expecting to read 20 bytes but only got 0. Skipping tag 306\n",
            "  \" Skipping tag %s\" % (size, len(data), tag)\n",
            "/usr/local/lib/python3.7/dist-packages/PIL/TiffImagePlugin.py:770: UserWarning: Possibly corrupt EXIF data.  Expecting to read 48 bytes but only got 0. Skipping tag 532\n",
            "  \" Skipping tag %s\" % (size, len(data), tag)\n",
            "/usr/local/lib/python3.7/dist-packages/PIL/TiffImagePlugin.py:788: UserWarning: Corrupt EXIF data.  Expecting to read 2 bytes but only got 0. \n",
            "  warnings.warn(str(msg))\n"
          ]
        },
        {
          "output_type": "stream",
          "name": "stdout",
          "text": [
            "Epoch 0, minibatch 360: train acc = 0.9454639889196675, train loss = 0.005583338460103297\n",
            "Epoch 0, minibatch 450: train acc = 0.9470620842572062, train loss = 0.005643820286854407\n",
            "Epoch 0, minibatch 540: train acc = 0.9463378003696857, train loss = 0.006204796366242076\n",
            "Epoch 0 done, validation acc = 0.9708, validation loss = 0.003989895248413086\n"
          ]
        }
      ]
    },
    {
      "cell_type": "code",
      "source": [],
      "metadata": {
        "id": "u_cDW2rwm8Qo"
      },
      "execution_count": null,
      "outputs": []
    }
  ]
}